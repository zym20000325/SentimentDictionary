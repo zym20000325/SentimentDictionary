{
 "cells": [
  {
   "cell_type": "code",
   "execution_count": 1,
   "metadata": {},
   "outputs": [],
   "source": [
    "import pandas as pd"
   ]
  },
  {
   "cell_type": "code",
   "execution_count": 2,
   "metadata": {},
   "outputs": [],
   "source": [
    "timestamp = ['20151230','20160613','20161212','20170612','20171211','20180611','20181217','20190617','20191216','20200615','20201214','20210615','20211213','20220301']\n",
    "filename = ['2015-12-30','2016-06-13','2016-12-12','2017-06-12','2017-12-11','2018-06-11','2018-12-17','2019-06-17','2019-12-16','2020-06-15','2020-12-14','2021-06-15','2021-12-13']"
   ]
  },
  {
   "cell_type": "code",
   "execution_count": 6,
   "metadata": {},
   "outputs": [
    {
     "name": "stdout",
     "output_type": "stream",
     "text": [
      "300\n",
      "600\n",
      "900\n",
      "1200\n",
      "1500\n",
      "1800\n",
      "2100\n",
      "2400\n",
      "2700\n",
      "3000\n",
      "3300\n",
      "3600\n",
      "3900\n"
     ]
    }
   ],
   "source": [
    "stock_name_set = []\n",
    "\n",
    "for i in range(len(filename)):\n",
    "    \n",
    "    df_hs300 = pd.read_csv('data/HS300/' + filename[i] + '.csv')\n",
    "    stock_name = list(df_hs300['成份名称'])\n",
    "    stock_name_set.extend(stock_name)\n",
    "    print(len(stock_name_set))\n",
    "    "
   ]
  },
  {
   "cell_type": "code",
   "execution_count": 7,
   "metadata": {},
   "outputs": [
    {
     "data": {
      "text/plain": [
       "556"
      ]
     },
     "execution_count": 7,
     "metadata": {},
     "output_type": "execute_result"
    }
   ],
   "source": [
    "stock_name_set = list(set(stock_name_set))\n",
    "len(stock_name_set)"
   ]
  },
  {
   "cell_type": "code",
   "execution_count": 23,
   "metadata": {},
   "outputs": [
    {
     "name": "stdout",
     "output_type": "stream",
     "text": [
      "京东方A\n",
      "*ST海航\n",
      "华侨城A\n",
      "安道麦A\n",
      "TCL科技\n",
      "ST中安\n",
      "*ST信威\n",
      "万科A\n",
      "粤电力A\n",
      "ST安信\n",
      "ST瑞德\n",
      "ST金正\n",
      "*ST康美\n"
     ]
    }
   ],
   "source": [
    "import re\n",
    "\n",
    "def check_letter(s):\n",
    "    \n",
    "    my_re = re.compile(r'[A-Za-z*]',re.S)\n",
    "    res = re.findall(my_re,s)\n",
    "\n",
    "    if(len(res)):\n",
    "        return True\n",
    "\n",
    "    else:\n",
    "        return False\n",
    "\n",
    "names_to_add = []\n",
    "\n",
    "for i in range(len(stock_name_set)):\n",
    "    \n",
    "    if(check_letter(stock_name_set[i])):\n",
    "        \n",
    "        print(stock_name_set[i])\n",
    "        stock_name2 = re.sub(r\"[A-Za-z*]\",\"\",stock_name_set[i]) #将字母替换为空\n",
    "        names_to_add.append(stock_name2)\n"
   ]
  },
  {
   "cell_type": "code",
   "execution_count": 24,
   "metadata": {},
   "outputs": [
    {
     "data": {
      "text/plain": [
       "['京东方',\n",
       " '海航',\n",
       " '华侨城',\n",
       " '安道麦',\n",
       " '科技',\n",
       " '中安',\n",
       " '信威',\n",
       " '万科',\n",
       " '粤电力',\n",
       " '安信',\n",
       " '瑞德',\n",
       " '金正',\n",
       " '康美']"
      ]
     },
     "execution_count": 24,
     "metadata": {},
     "output_type": "execute_result"
    }
   ],
   "source": [
    "names_to_add "
   ]
  },
  {
   "cell_type": "code",
   "execution_count": 25,
   "metadata": {},
   "outputs": [],
   "source": [
    "stock_name_set.extend(names_to_add)"
   ]
  },
  {
   "cell_type": "code",
   "execution_count": 26,
   "metadata": {},
   "outputs": [
    {
     "data": {
      "text/plain": [
       "569"
      ]
     },
     "execution_count": 26,
     "metadata": {},
     "output_type": "execute_result"
    }
   ],
   "source": [
    "len(stock_name_set)"
   ]
  },
  {
   "cell_type": "code",
   "execution_count": 9,
   "metadata": {},
   "outputs": [
    {
     "data": {
      "text/plain": [
       "['中国宝安', '中信国安', '中国能建', '同花顺', '公牛集团', '片仔癀', '武钢股份', '中信证券', '青岛啤酒', '新城控股']"
      ]
     },
     "execution_count": 9,
     "metadata": {},
     "output_type": "execute_result"
    }
   ],
   "source": [
    "stock_name_set[0:10]"
   ]
  },
  {
   "cell_type": "code",
   "execution_count": 11,
   "metadata": {},
   "outputs": [],
   "source": [
    "df = pd.DataFrame (stock_name_set, columns = ['stock_name'])\n",
    "df.to_csv('Stock_name_set.csv',index=False, encoding='utf_8_sig')"
   ]
  },
  {
   "cell_type": "code",
   "execution_count": null,
   "metadata": {},
   "outputs": [],
   "source": []
  }
 ],
 "metadata": {
  "kernelspec": {
   "display_name": "Python 3",
   "language": "python",
   "name": "python3"
  },
  "language_info": {
   "codemirror_mode": {
    "name": "ipython",
    "version": 3
   },
   "file_extension": ".py",
   "mimetype": "text/x-python",
   "name": "python",
   "nbconvert_exporter": "python",
   "pygments_lexer": "ipython3",
   "version": "3.8.3"
  }
 },
 "nbformat": 4,
 "nbformat_minor": 4
}
