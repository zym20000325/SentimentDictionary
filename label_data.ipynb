{
 "cells": [
  {
   "cell_type": "code",
   "execution_count": 55,
   "metadata": {},
   "outputs": [],
   "source": [
    "import pandas as pd\n",
    "pd.options.mode.chained_assignment = None  # default='warn'"
   ]
  },
  {
   "cell_type": "code",
   "execution_count": 56,
   "metadata": {},
   "outputs": [],
   "source": [
    "def get_acc(df,date,stock):\n",
    "    \n",
    "    index = df[df['trade_date']==int(date)].index.values[0]\n",
    "    \n",
    "    return float(df[stock][index])"
   ]
  },
  {
   "cell_type": "code",
   "execution_count": 57,
   "metadata": {},
   "outputs": [],
   "source": [
    "df_3day = pd.read_csv(\"data/price/accumulate_abreturn_3day.csv\")\n",
    "df_5day = pd.read_csv(\"data/price/accumulate_abreturn_5day.csv\")"
   ]
  },
  {
   "cell_type": "code",
   "execution_count": 58,
   "metadata": {},
   "outputs": [
    {
     "data": {
      "text/plain": [
       "-1.2158000000000002"
      ]
     },
     "execution_count": 58,
     "metadata": {},
     "output_type": "execute_result"
    }
   ],
   "source": [
    "get_acc(df_3day,\"20220104\",\"000001.SZ\")"
   ]
  },
  {
   "cell_type": "code",
   "execution_count": 59,
   "metadata": {},
   "outputs": [
    {
     "data": {
      "text/plain": [
       "2.309499999999999"
      ]
     },
     "execution_count": 59,
     "metadata": {},
     "output_type": "execute_result"
    }
   ],
   "source": [
    "get_acc(df_5day,\"20220104\",\"000008.SZ\")"
   ]
  },
  {
   "cell_type": "code",
   "execution_count": null,
   "metadata": {},
   "outputs": [],
   "source": []
  },
  {
   "cell_type": "code",
   "execution_count": null,
   "metadata": {},
   "outputs": [],
   "source": []
  },
  {
   "cell_type": "code",
   "execution_count": 122,
   "metadata": {},
   "outputs": [],
   "source": [
    "# label\n",
    "\n",
    "\n",
    "def date_adjust(df_3day,date_to_find):\n",
    "    \n",
    "    trade_date = list(df_3day['trade_date'])\n",
    "    \n",
    "    if(int(date_to_find) in trade_date):\n",
    "        return date_to_find\n",
    "    \n",
    "    else:\n",
    "        \n",
    "        date_to_find = int(date_to_find)\n",
    "        \n",
    "        while(1):\n",
    "            date_to_find = date_to_find+1\n",
    "            if(date_to_find in trade_date):\n",
    "                break\n",
    "        \n",
    "        return str(date_to_find)\n",
    "\n",
    "    \n",
    "def label_on(df,one_stock_code,df_3day,df_5day):\n",
    "    \n",
    "#     df['accr3'] = 0.0 #\n",
    "#     df['accr5'] = 0.0 #\n",
    "#     df['accr3_label'] = 0 #\n",
    "#     df['accr5_label'] = 0 #\n",
    "    \n",
    "#     del df['ts_code'] #\n",
    "#     del df['pub_time'] #\n",
    "\n",
    "    df = df.dropna()\n",
    "    df = df.reset_index(drop=True)\n",
    "    \n",
    "    ptive3 = 0\n",
    "    ntive3 = 0\n",
    "      \n",
    "    ptive5 = 0\n",
    "    ntive5 = 0\n",
    "    \n",
    "    for i in range(len(df)):\n",
    "        \n",
    "#         date = str(df['ann_date'][i]) #\n",
    "#         date = date_adjust(df_3day,date) #\n",
    "        \n",
    "#         df['accr3'][i] = get_acc(df_3day,date,one_stock_code) #\n",
    "        if(df['accr3'][i]>0):\n",
    "#             df['accr3_label'][i] = 1 #\n",
    "            ptive3 = ptive3+1\n",
    "        \n",
    "#         df['accr5'][i] = get_acc(df_5day,date,one_stock_code) #\n",
    "        if(df['accr5'][i]>0):\n",
    "#             df['accr5_label'][i] = 1 #\n",
    "            ptive5 = ptive5+1\n",
    "    \n",
    "    ntive3 = len(df)-ptive3\n",
    "    ntive5 = len(df)-ptive5\n",
    "    \n",
    "    \n",
    "    return df,ptive3,ntive3,ptive5,ntive5"
   ]
  },
  {
   "cell_type": "code",
   "execution_count": 123,
   "metadata": {},
   "outputs": [],
   "source": [
    "def label_file(filename,t1,t2):\n",
    "    \n",
    "    df_3day = pd.read_csv(\"data/price/accumulate_abreturn_3day.csv\")\n",
    "    df_5day = pd.read_csv(\"data/price/accumulate_abreturn_5day.csv\")\n",
    "    \n",
    "    df_hs300 = pd.read_csv('data/HS300/' + filename + '.csv')\n",
    "    stock_code = list(df_hs300['成份代码'])\n",
    "    foldername = t1+'-'+t2\n",
    "    \n",
    "    ptive3_a = 0\n",
    "    ntive3_a = 0\n",
    "    ptive5_a = 0\n",
    "    ntive5_a = 0\n",
    "    \n",
    "    for i in range(len(stock_code)):\n",
    "        \n",
    "        one_stock_code = stock_code[i]\n",
    "        savefilepath = 'data/HS300/' + foldername + '/'+ one_stock_code+'.csv'\n",
    "        df = pd.read_csv(savefilepath)\n",
    "        \n",
    "        df,ptive3,ntive3,ptive5,ntive5 = label_on(df,one_stock_code,df_3day,df_5day)\n",
    "#         df.to_csv(savefilepath, index=False, encoding='utf_8_sig') #\n",
    "        \n",
    "        ptive3_a = ptive3_a+ptive3\n",
    "        ntive3_a = ntive3_a+ntive3\n",
    "        ptive5_a = ptive5_a+ptive5\n",
    "        ntive5_a = ntive5_a+ntive5\n",
    "    \n",
    "    print(\"3day p: \" + str(ptive3_a)) \n",
    "    print(\"3day n: \" + str(ntive3_a)) \n",
    "    \n",
    "    print(\"5day p: \" + str(ptive5_a)) \n",
    "    print(\"5day n: \" + str(ntive5_a))\n",
    "        "
   ]
  },
  {
   "cell_type": "code",
   "execution_count": 75,
   "metadata": {},
   "outputs": [
    {
     "name": "stdout",
     "output_type": "stream",
     "text": [
      "3day p: 7170\n",
      "3day n: 7985\n",
      "5day p: 7130\n",
      "5day n: 8025\n"
     ]
    }
   ],
   "source": [
    "# 2016 1\n",
    "\n",
    "label_file('2015-12-30','20151230','20160613')"
   ]
  },
  {
   "cell_type": "code",
   "execution_count": 76,
   "metadata": {},
   "outputs": [
    {
     "name": "stdout",
     "output_type": "stream",
     "text": [
      "3day p: 6262\n",
      "3day n: 7163\n",
      "5day p: 6218\n",
      "5day n: 7207\n"
     ]
    }
   ],
   "source": [
    "# 2016 2\n",
    "\n",
    "label_file('2016-06-13','20160613','20161212')"
   ]
  },
  {
   "cell_type": "code",
   "execution_count": 82,
   "metadata": {},
   "outputs": [
    {
     "name": "stdout",
     "output_type": "stream",
     "text": [
      "3day p: 8344\n",
      "3day n: 9641\n",
      "5day p: 8075\n",
      "5day n: 9910\n"
     ]
    }
   ],
   "source": [
    "# 2017 1\n",
    "\n",
    "label_file('2016-12-12','20161212','20170612')"
   ]
  },
  {
   "cell_type": "code",
   "execution_count": 88,
   "metadata": {},
   "outputs": [
    {
     "name": "stdout",
     "output_type": "stream",
     "text": [
      "3day p: 6519\n",
      "3day n: 8222\n",
      "5day p: 6201\n",
      "5day n: 8540\n"
     ]
    }
   ],
   "source": [
    "# 2017 2\n",
    "\n",
    "label_file('2017-06-12','20170612','20171211')"
   ]
  },
  {
   "cell_type": "code",
   "execution_count": 94,
   "metadata": {},
   "outputs": [
    {
     "name": "stdout",
     "output_type": "stream",
     "text": [
      "3day p: 9644\n",
      "3day n: 9335\n",
      "5day p: 9450\n",
      "5day n: 9529\n"
     ]
    }
   ],
   "source": [
    "# 2018 1\n",
    "\n",
    "label_file('2017-12-11','20171211','20180611')"
   ]
  },
  {
   "cell_type": "code",
   "execution_count": 100,
   "metadata": {},
   "outputs": [
    {
     "name": "stdout",
     "output_type": "stream",
     "text": [
      "3day p: 8299\n",
      "3day n: 7936\n",
      "5day p: 8084\n",
      "5day n: 8151\n"
     ]
    }
   ],
   "source": [
    "# 2018 2\n",
    "\n",
    "label_file('2018-06-11','20180611','20181217')"
   ]
  },
  {
   "cell_type": "code",
   "execution_count": 106,
   "metadata": {},
   "outputs": [
    {
     "name": "stdout",
     "output_type": "stream",
     "text": [
      "3day p: 9119\n",
      "3day n: 11549\n",
      "5day p: 8951\n",
      "5day n: 11717\n"
     ]
    }
   ],
   "source": [
    "# 2019 1\n",
    "\n",
    "label_file('2018-12-17' ,'20181217','20190617')"
   ]
  },
  {
   "cell_type": "code",
   "execution_count": 112,
   "metadata": {},
   "outputs": [
    {
     "name": "stdout",
     "output_type": "stream",
     "text": [
      "3day p: 8284\n",
      "3day n: 9037\n",
      "5day p: 8217\n",
      "5day n: 9104\n"
     ]
    }
   ],
   "source": [
    "# 2019 2\n",
    "\n",
    "label_file('2019-06-17','20190617','20191216')"
   ]
  },
  {
   "cell_type": "code",
   "execution_count": 118,
   "metadata": {},
   "outputs": [
    {
     "name": "stdout",
     "output_type": "stream",
     "text": [
      "3day p: 10834\n",
      "3day n: 12069\n",
      "5day p: 10338\n",
      "5day n: 12565\n"
     ]
    }
   ],
   "source": [
    "# 2020 1\n",
    "\n",
    "label_file('2019-12-16','20191216','20200615')"
   ]
  },
  {
   "cell_type": "code",
   "execution_count": 124,
   "metadata": {},
   "outputs": [
    {
     "name": "stdout",
     "output_type": "stream",
     "text": [
      "3day p: 7573\n",
      "3day n: 9327\n",
      "5day p: 7367\n",
      "5day n: 9533\n"
     ]
    }
   ],
   "source": [
    "# 2020 2\n",
    "\n",
    "label_file('2020-06-15','20200615','20201214')"
   ]
  },
  {
   "cell_type": "code",
   "execution_count": null,
   "metadata": {},
   "outputs": [],
   "source": []
  }
 ],
 "metadata": {
  "kernelspec": {
   "display_name": "Python 3",
   "language": "python",
   "name": "python3"
  },
  "language_info": {
   "codemirror_mode": {
    "name": "ipython",
    "version": 3
   },
   "file_extension": ".py",
   "mimetype": "text/x-python",
   "name": "python",
   "nbconvert_exporter": "python",
   "pygments_lexer": "ipython3",
   "version": "3.8.3"
  }
 },
 "nbformat": 4,
 "nbformat_minor": 4
}
