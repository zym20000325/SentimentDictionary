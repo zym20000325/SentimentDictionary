{
 "cells": [
  {
   "cell_type": "code",
   "execution_count": 1,
   "metadata": {},
   "outputs": [],
   "source": [
    "import pandas as pd\n",
    "pd.options.mode.chained_assignment = None  # default='warn'"
   ]
  },
  {
   "cell_type": "code",
   "execution_count": 2,
   "metadata": {},
   "outputs": [],
   "source": [
    "def read_corpus(path):\n",
    "    \n",
    "    df_corpus = pd.read_csv(path)\n",
    "\n",
    "    corpus_dict = {}\n",
    "\n",
    "    for i in range(len(df_corpus)):\n",
    "\n",
    "        word = str(df_corpus.word[i])\n",
    "        count = int(df_corpus.num[i])\n",
    "        corpus_dict[word] = count\n",
    "\n",
    "    return corpus_dict"
   ]
  },
  {
   "cell_type": "code",
   "execution_count": 3,
   "metadata": {},
   "outputs": [],
   "source": [
    "def filter_words(report0):\n",
    "    \n",
    "    report = []\n",
    "    \n",
    "    for i in range(len(report0)):\n",
    "        \n",
    "        if(report0[i] not in report):\n",
    "            if(len(report0[i])>=2 and len(report0[i])<=8):\n",
    "                report.append(report0[i])\n",
    "    \n",
    "    return report"
   ]
  },
  {
   "cell_type": "code",
   "execution_count": 4,
   "metadata": {},
   "outputs": [],
   "source": [
    "def update_corpus(report,corpus_dict):\n",
    "    \n",
    "    corpus_list = list(corpus_dict.keys())\n",
    "    \n",
    "    for i in range(len(report)):\n",
    "        \n",
    "        report_word = report[i]\n",
    "        if(report_word in corpus_list):\n",
    "            corpus_dict[report_word] = corpus_dict[report_word]+1\n",
    "        else:\n",
    "            corpus_dict[report_word] = 1\n",
    "    \n",
    "    return corpus_dict"
   ]
  },
  {
   "cell_type": "code",
   "execution_count": 5,
   "metadata": {},
   "outputs": [],
   "source": [
    "def save_corpus(corpus_dict):\n",
    "    \n",
    "    corpus_save = []\n",
    "    \n",
    "    corpus_list = list(corpus_dict.keys())\n",
    "    \n",
    "    for i in range(len(corpus_list)):\n",
    "        \n",
    "        one_word = {}\n",
    "        one_word['word'] = corpus_list[i]\n",
    "        one_word['num'] = corpus_dict[corpus_list[i]]\n",
    "        corpus_save.append(one_word)\n",
    "    \n",
    "    corpus_save = pd.DataFrame(corpus_save)\n",
    "    \n",
    "    return corpus_save"
   ]
  },
  {
   "cell_type": "code",
   "execution_count": 10,
   "metadata": {},
   "outputs": [],
   "source": [
    "def build_corpus(filename,t1,t2):\n",
    "    \n",
    "    df_hs300 = pd.read_csv('data/HS300/' + filename + '.csv')\n",
    "    stock_code = list(df_hs300['成份代码'])\n",
    "    foldername = t1+'-'+t2\n",
    "\n",
    "    for i in range(len(stock_code)):\n",
    "        \n",
    "        corpus_dict = read_corpus('data/HS300/' + foldername + '/corpus2.csv')  # 读入预设语料库\n",
    "        \n",
    "        one_stock_code = stock_code[i]\n",
    "        savefilepath = 'data/HS300/' + foldername + '/'+ one_stock_code+'.csv'\n",
    "        df = pd.read_csv(savefilepath)\n",
    "        df = df.dropna()\n",
    "        df = df.reset_index(drop=True)\n",
    "        \n",
    "        for j in range(len(df)):\n",
    "    \n",
    "            report0 = list(df.words[j].split(\"/\"))\n",
    "            report = filter_words(report0)\n",
    "            corpus_dict = update_corpus(report,corpus_dict)  # 更新预设语料库\n",
    "        \n",
    "        corpus_df = save_corpus(corpus_dict)\n",
    "        \n",
    "        if(i%50==0):\n",
    "            print(i)\n",
    "            print(len(corpus_df))\n",
    "        \n",
    "        corpus_df.to_csv('data/HS300/' + foldername + '/corpus2.csv', index=False, encoding='utf_8_sig')"
   ]
  },
  {
   "cell_type": "code",
   "execution_count": 13,
   "metadata": {},
   "outputs": [],
   "source": [
    "def remove_low_frequency(filename,t1,t2):\n",
    "    \n",
    "    foldername = t1+'-'+t2\n",
    "    filepath = 'data/HS300/' + foldername + '/corpus2.csv'\n",
    "    \n",
    "    df_corpus = pd.read_csv(filepath)\n",
    "    print(len(df_corpus))\n",
    "    \n",
    "    df_corpus.drop(df_corpus.loc[df_corpus['num']<=65].index, inplace=True)  # remove num ≤ 65\n",
    "    df_corpus = df_corpus.reset_index(drop=True)\n",
    "    print(len(df_corpus))\n",
    "    \n",
    "    df_corpus.to_csv(filepath, index=False, encoding='utf_8_sig')"
   ]
  },
  {
   "cell_type": "code",
   "execution_count": 29,
   "metadata": {},
   "outputs": [
    {
     "name": "stdout",
     "output_type": "stream",
     "text": [
      "0\n",
      "13563\n",
      "50\n",
      "81573\n",
      "100\n",
      "114390\n",
      "150\n",
      "130553\n",
      "200\n",
      "151223\n",
      "250\n",
      "171951\n"
     ]
    }
   ],
   "source": [
    "# build_corpus('2015-12-30','20151230','20160613')\n",
    "# build_corpus('2016-06-13','20160613','20161212')\n",
    "\n",
    "# build_corpus('2016-12-12','20161212','20170612')\n",
    "# build_corpus('2017-06-12','20170612','20171211')\n",
    "\n",
    "# build_corpus('2017-12-11','20171211','20180611')\n",
    "# build_corpus('2018-06-11','20180611','20181217')\n",
    "\n",
    "# build_corpus('2018-12-17' ,'20181217','20190617')\n",
    "# build_corpus('2019-06-17','20190617','20191216')\n",
    "\n",
    "# build_corpus('2019-12-16','20191216','20200615')\n",
    "build_corpus('2020-06-15','20200615','20201214')"
   ]
  },
  {
   "cell_type": "code",
   "execution_count": 30,
   "metadata": {},
   "outputs": [
    {
     "name": "stdout",
     "output_type": "stream",
     "text": [
      "187425\n",
      "11341\n"
     ]
    }
   ],
   "source": [
    "# remove_low_frequency('2016-06-13','20160613','20161212')\n",
    "\n",
    "# remove_low_frequency('2016-12-12','20161212','20170612')\n",
    "# remove_low_frequency('2017-06-12','20170612','20171211')\n",
    "\n",
    "# remove_low_frequency('2017-12-11','20171211','20180611')\n",
    "# remove_low_frequency('2018-06-11','20180611','20181217')\n",
    "\n",
    "# remove_low_frequency('2018-12-17' ,'20181217','20190617')\n",
    "# remove_low_frequency('2019-06-17','20190617','20191216')\n",
    "\n",
    "# remove_low_frequency('2019-12-16','20191216','20200615')\n",
    "remove_low_frequency('2020-06-15','20200615','20201214')"
   ]
  },
  {
   "cell_type": "code",
   "execution_count": null,
   "metadata": {},
   "outputs": [],
   "source": []
  },
  {
   "cell_type": "code",
   "execution_count": null,
   "metadata": {},
   "outputs": [],
   "source": []
  },
  {
   "cell_type": "code",
   "execution_count": null,
   "metadata": {},
   "outputs": [],
   "source": []
  },
  {
   "cell_type": "code",
   "execution_count": 9,
   "metadata": {},
   "outputs": [
    {
     "data": {
      "text/html": [
       "<div>\n",
       "<style scoped>\n",
       "    .dataframe tbody tr th:only-of-type {\n",
       "        vertical-align: middle;\n",
       "    }\n",
       "\n",
       "    .dataframe tbody tr th {\n",
       "        vertical-align: top;\n",
       "    }\n",
       "\n",
       "    .dataframe thead th {\n",
       "        text-align: right;\n",
       "    }\n",
       "</style>\n",
       "<table border=\"1\" class=\"dataframe\">\n",
       "  <thead>\n",
       "    <tr style=\"text-align: right;\">\n",
       "      <th></th>\n",
       "      <th>word</th>\n",
       "      <th>num</th>\n",
       "    </tr>\n",
       "  </thead>\n",
       "  <tbody>\n",
       "    <tr>\n",
       "      <th>0</th>\n",
       "      <td>核心技术</td>\n",
       "      <td>579</td>\n",
       "    </tr>\n",
       "    <tr>\n",
       "      <th>1</th>\n",
       "      <td>推广</td>\n",
       "      <td>1081</td>\n",
       "    </tr>\n",
       "    <tr>\n",
       "      <th>2</th>\n",
       "      <td>增值</td>\n",
       "      <td>1174</td>\n",
       "    </tr>\n",
       "    <tr>\n",
       "      <th>3</th>\n",
       "      <td>领先</td>\n",
       "      <td>1243</td>\n",
       "    </tr>\n",
       "    <tr>\n",
       "      <th>4</th>\n",
       "      <td>贴现</td>\n",
       "      <td>701</td>\n",
       "    </tr>\n",
       "    <tr>\n",
       "      <th>...</th>\n",
       "      <td>...</td>\n",
       "      <td>...</td>\n",
       "    </tr>\n",
       "    <tr>\n",
       "      <th>95</th>\n",
       "      <td>弥补</td>\n",
       "      <td>1067</td>\n",
       "    </tr>\n",
       "    <tr>\n",
       "      <th>96</th>\n",
       "      <td>资产重组</td>\n",
       "      <td>2556</td>\n",
       "    </tr>\n",
       "    <tr>\n",
       "      <th>97</th>\n",
       "      <td>坏账</td>\n",
       "      <td>546</td>\n",
       "    </tr>\n",
       "    <tr>\n",
       "      <th>98</th>\n",
       "      <td>立案</td>\n",
       "      <td>401</td>\n",
       "    </tr>\n",
       "    <tr>\n",
       "      <th>99</th>\n",
       "      <td>购回</td>\n",
       "      <td>1054</td>\n",
       "    </tr>\n",
       "  </tbody>\n",
       "</table>\n",
       "<p>100 rows × 2 columns</p>\n",
       "</div>"
      ],
      "text/plain": [
       "    word   num\n",
       "0   核心技术   579\n",
       "1     推广  1081\n",
       "2     增值  1174\n",
       "3     领先  1243\n",
       "4     贴现   701\n",
       "..   ...   ...\n",
       "95    弥补  1067\n",
       "96  资产重组  2556\n",
       "97    坏账   546\n",
       "98    立案   401\n",
       "99    购回  1054\n",
       "\n",
       "[100 rows x 2 columns]"
      ]
     },
     "execution_count": 9,
     "metadata": {},
     "output_type": "execute_result"
    }
   ],
   "source": [
    "df_corpus = pd.read_csv(\"data/HS300/20151230-20160613/corpus.csv\")\n",
    "df_corpus[0:100]"
   ]
  },
  {
   "cell_type": "code",
   "execution_count": 10,
   "metadata": {},
   "outputs": [
    {
     "data": {
      "text/plain": [
       "262525"
      ]
     },
     "execution_count": 10,
     "metadata": {},
     "output_type": "execute_result"
    }
   ],
   "source": [
    "len(df_corpus)"
   ]
  },
  {
   "cell_type": "code",
   "execution_count": 11,
   "metadata": {},
   "outputs": [
    {
     "data": {
      "text/plain": [
       "262525"
      ]
     },
     "execution_count": 11,
     "metadata": {},
     "output_type": "execute_result"
    }
   ],
   "source": [
    "from statistics import mean, median\n",
    "\n",
    "num_list = list(df_corpus['num'])\n",
    "len(num_list)"
   ]
  },
  {
   "cell_type": "code",
   "execution_count": 12,
   "metadata": {},
   "outputs": [
    {
     "data": {
      "text/plain": [
       "17175"
      ]
     },
     "execution_count": 12,
     "metadata": {},
     "output_type": "execute_result"
    }
   ],
   "source": [
    "max(num_list)"
   ]
  },
  {
   "cell_type": "code",
   "execution_count": 13,
   "metadata": {},
   "outputs": [
    {
     "data": {
      "text/plain": [
       "0"
      ]
     },
     "execution_count": 13,
     "metadata": {},
     "output_type": "execute_result"
    }
   ],
   "source": [
    "min(num_list)"
   ]
  },
  {
   "cell_type": "code",
   "execution_count": 14,
   "metadata": {},
   "outputs": [
    {
     "data": {
      "text/plain": [
       "29.91701361775069"
      ]
     },
     "execution_count": 14,
     "metadata": {},
     "output_type": "execute_result"
    }
   ],
   "source": [
    "mean(num_list)"
   ]
  },
  {
   "cell_type": "code",
   "execution_count": 15,
   "metadata": {},
   "outputs": [
    {
     "data": {
      "text/plain": [
       "2"
      ]
     },
     "execution_count": 15,
     "metadata": {},
     "output_type": "execute_result"
    }
   ],
   "source": [
    "median(num_list)"
   ]
  },
  {
   "cell_type": "code",
   "execution_count": 17,
   "metadata": {},
   "outputs": [
    {
     "name": "stdout",
     "output_type": "stream",
     "text": [
      "核心技术 579\n",
      "推广 1081\n",
      "增值 1174\n",
      "领先 1243\n",
      "贴现 701\n",
      "考核 2198\n",
      "获授 471\n",
      "绩效 827\n",
      "新兴 848\n",
      "折现 790\n",
      "动力 1150\n",
      "有效性 1679\n",
      "健全 1476\n",
      "适用 0\n",
      "自有 1388\n",
      "超募 554\n",
      "广泛 0\n",
      "合规 2286\n",
      "资助 840\n",
      "团队 1519\n",
      "派息 829\n",
      "优秀 904\n",
      "着力 776\n",
      "溢价 759\n",
      "定制 444\n",
      "通过 0\n",
      "预先 809\n",
      "高端 1004\n",
      "创造 1366\n",
      "创业 543\n",
      "成就 398\n",
      "改进 1163\n",
      "引领 679\n",
      "稳步 1029\n",
      "引进 988\n",
      "试行 1113\n",
      "差异化 658\n",
      "扶贫 175\n",
      "派发 1244\n",
      "驱动 749\n",
      "一流 699\n",
      "现金管理 539\n",
      "首个 456\n",
      "国际化 878\n",
      "技术骨干 98\n",
      "最佳 992\n",
      "安全性 771\n",
      "精准 368\n",
      "关键 1275\n",
      "幸福 251\n",
      "股息 690\n",
      "成果 2463\n",
      "履约 700\n",
      "改造 1290\n",
      "还本付息 697\n",
      "净亏损 900\n",
      "无限 1654\n",
      "除息 103\n",
      "付息 1259\n",
      "下跌 967\n",
      "融券 1088\n",
      "减值 1242\n",
      "无偿 997\n",
      "解散 417\n",
      "摊薄 698\n",
      "不可 0\n",
      "享受 1381\n",
      "不利 1767\n",
      "筹划 805\n",
      "未能 2267\n",
      "下滑 838\n",
      "债权 1471\n",
      "遭受 972\n",
      "不足 0\n",
      "下降 2239\n",
      "赔付 562\n",
      "支付现金 1080\n",
      "利息支出 1365\n",
      "放弃 1449\n",
      "偿还债务 1272\n",
      "更名 893\n",
      "平稳 838\n",
      "卖出 675\n",
      "拆出 160\n",
      "侵占 362\n",
      "只能 1146\n",
      "兑付 1252\n",
      "放缓 889\n",
      "返还 1311\n",
      "停牌 872\n",
      "流出 1347\n",
      "商誉 1207\n",
      "违约 1235\n",
      "亏损 2050\n",
      "出售 2227\n",
      "弥补 1067\n",
      "资产重组 2556\n",
      "坏账 546\n",
      "立案 401\n",
      "购回 1054\n",
      "补偿 1522\n",
      "证券 12889\n",
      "代码 10918\n",
      "公告 13438\n",
      "编号 10847\n",
      "优先股 2236\n",
      "平银优 12\n",
      "股份有限公司 13360\n",
      "年度 9675\n",
      "权益 3704\n",
      "分派 962\n",
      "实施 7214\n",
      "公司 17175\n",
      "董事会 15894\n",
      "全体成员 5296\n",
      "保证 14392\n",
      "信息 9849\n",
      "披露 11336\n",
      "内容 14579\n",
      "真实 9837\n",
      "准确 9152\n",
      "完整 9742\n",
      "虚假 12443\n",
      "记载 12482\n",
      "误导性 12261\n",
      "陈述 12746\n",
      "遗漏 12533\n",
      "方案 5317\n",
      "已获 248\n",
      "年度股东大会 3902\n",
      "审议 11494\n",
      "现将 1810\n",
      "事宜 4439\n",
      "股东大会 7911\n",
      "利润分配 4271\n",
      "资本 3536\n",
      "公积金 2343\n",
      "转增 2654\n",
      "股本 3910\n",
      "情况 13628\n",
      "日本 1639\n",
      "总股本 3458\n",
      "股为 1611\n",
      "基数 2152\n",
      "每股 3833\n",
      "发现 3641\n",
      "股利 2162\n",
      "人民币 7737\n",
      "含税 2273\n",
      "资本公积 2028\n",
      "股自 53\n",
      "分配 2996\n",
      "期间 5745\n",
      "总额 5990\n",
      "发生变化 2035\n",
      "距离 304\n",
      "时间 6592\n",
      "超过 6550\n",
      "两个 1828\n",
      "现有 2438\n",
      "股东 11434\n",
      "派元 263\n",
      "现金 4327\n",
      "扣税 236\n",
      "持有 7171\n",
      "股改 396\n",
      "限售 979\n",
      "首发 476\n",
      "证券投资基金 1278\n",
      "股及 328\n",
      "流通股 1298\n",
      "利税 88\n",
      "实行 2028\n",
      "差别化 176\n",
      "税率 1109\n",
      "征收 907\n",
      "权益登记日 69\n",
      "投资者 7664\n",
      "减持 1025\n",
      "股票 6916\n",
      "持股 4357\n",
      "期限 4799\n",
      "补缴 186\n",
      "税款 1112\n",
      "所涉 491\n",
      "香港 3095\n",
      "基金份额 126\n",
      "内地 284\n",
      "非居民企业 267\n",
      "代扣代缴 572\n",
      "所得税 1628\n",
      "纳税人 411\n",
      "所得 1180\n",
      "发生地 79\n",
      "缴纳 1906\n",
      "股注 283\n",
      "先进先出 57\n",
      "原则 4789\n",
      "账户 3040\n",
      "单位 6678\n"
     ]
    }
   ],
   "source": [
    "for i in range(200):\n",
    "    \n",
    "    print(str(df_corpus.word[i]) + \" \" + str(df_corpus.num[i]))"
   ]
  },
  {
   "cell_type": "code",
   "execution_count": 18,
   "metadata": {},
   "outputs": [
    {
     "data": {
      "text/plain": [
       "151599"
      ]
     },
     "execution_count": 18,
     "metadata": {},
     "output_type": "execute_result"
    }
   ],
   "source": [
    "# remove num = 1\n",
    "\n",
    "df_corpus.drop(df_corpus.loc[df_corpus['num']==1].index, inplace=True)\n",
    "df_corpus = df_corpus.reset_index(drop=True)\n",
    "len(df_corpus)"
   ]
  },
  {
   "cell_type": "code",
   "execution_count": 19,
   "metadata": {},
   "outputs": [
    {
     "data": {
      "text/plain": [
       "51.07578546032626"
      ]
     },
     "execution_count": 19,
     "metadata": {},
     "output_type": "execute_result"
    }
   ],
   "source": [
    "num_list = list(df_corpus['num'])\n",
    "mean(num_list)"
   ]
  },
  {
   "cell_type": "code",
   "execution_count": 20,
   "metadata": {},
   "outputs": [
    {
     "data": {
      "text/plain": [
       "4"
      ]
     },
     "execution_count": 20,
     "metadata": {},
     "output_type": "execute_result"
    }
   ],
   "source": [
    "median(num_list)"
   ]
  },
  {
   "cell_type": "code",
   "execution_count": 21,
   "metadata": {},
   "outputs": [
    {
     "data": {
      "text/plain": [
       "107389"
      ]
     },
     "execution_count": 21,
     "metadata": {},
     "output_type": "execute_result"
    }
   ],
   "source": [
    "# remove num = 2\n",
    "\n",
    "df_corpus.drop(df_corpus.loc[df_corpus['num']==2].index, inplace=True)\n",
    "df_corpus = df_corpus.reset_index(drop=True)\n",
    "len(df_corpus)"
   ]
  },
  {
   "cell_type": "code",
   "execution_count": 22,
   "metadata": {},
   "outputs": [
    {
     "name": "stdout",
     "output_type": "stream",
     "text": [
      "71.27934890910615\n",
      "7\n"
     ]
    }
   ],
   "source": [
    "num_list = list(df_corpus['num'])\n",
    "print(mean(num_list))\n",
    "print(median(num_list))"
   ]
  },
  {
   "cell_type": "code",
   "execution_count": 23,
   "metadata": {},
   "outputs": [
    {
     "data": {
      "text/plain": [
       "85980"
      ]
     },
     "execution_count": 23,
     "metadata": {},
     "output_type": "execute_result"
    }
   ],
   "source": [
    "# remove num = 3\n",
    "\n",
    "df_corpus.drop(df_corpus.loc[df_corpus['num']==3].index, inplace=True)\n",
    "df_corpus = df_corpus.reset_index(drop=True)\n",
    "len(df_corpus)"
   ]
  },
  {
   "cell_type": "code",
   "execution_count": 24,
   "metadata": {},
   "outputs": [
    {
     "data": {
      "text/plain": [
       "72313"
      ]
     },
     "execution_count": 24,
     "metadata": {},
     "output_type": "execute_result"
    }
   ],
   "source": [
    "# remove num = 4\n",
    "\n",
    "df_corpus.drop(df_corpus.loc[df_corpus['num']==4].index, inplace=True)\n",
    "df_corpus = df_corpus.reset_index(drop=True)\n",
    "len(df_corpus)"
   ]
  },
  {
   "cell_type": "code",
   "execution_count": 25,
   "metadata": {},
   "outputs": [
    {
     "name": "stdout",
     "output_type": "stream",
     "text": [
      "104.20979630218633\n",
      "13\n"
     ]
    }
   ],
   "source": [
    "num_list = list(df_corpus['num'])\n",
    "print(mean(num_list))\n",
    "print(median(num_list))"
   ]
  },
  {
   "cell_type": "code",
   "execution_count": 26,
   "metadata": {},
   "outputs": [
    {
     "data": {
      "text/plain": [
       "63498"
      ]
     },
     "execution_count": 26,
     "metadata": {},
     "output_type": "execute_result"
    }
   ],
   "source": [
    "# remove num = 5\n",
    "\n",
    "df_corpus.drop(df_corpus.loc[df_corpus['num']==5].index, inplace=True)\n",
    "df_corpus = df_corpus.reset_index(drop=True)\n",
    "len(df_corpus)"
   ]
  },
  {
   "cell_type": "code",
   "execution_count": 27,
   "metadata": {},
   "outputs": [
    {
     "name": "stdout",
     "output_type": "stream",
     "text": [
      "117.98242464329586\n",
      "15.0\n"
     ]
    }
   ],
   "source": [
    "num_list = list(df_corpus['num'])\n",
    "print(mean(num_list))\n",
    "print(median(num_list))"
   ]
  },
  {
   "cell_type": "code",
   "execution_count": 29,
   "metadata": {},
   "outputs": [
    {
     "data": {
      "text/plain": [
       "56456"
      ]
     },
     "execution_count": 29,
     "metadata": {},
     "output_type": "execute_result"
    }
   ],
   "source": [
    "# remove num = 6\n",
    "\n",
    "df_corpus.drop(df_corpus.loc[df_corpus['num']==6].index, inplace=True)\n",
    "df_corpus = df_corpus.reset_index(drop=True)\n",
    "len(df_corpus)"
   ]
  },
  {
   "cell_type": "code",
   "execution_count": 30,
   "metadata": {},
   "outputs": [
    {
     "data": {
      "text/plain": [
       "51185"
      ]
     },
     "execution_count": 30,
     "metadata": {},
     "output_type": "execute_result"
    }
   ],
   "source": [
    "# remove num = 7\n",
    "\n",
    "df_corpus.drop(df_corpus.loc[df_corpus['num']==7].index, inplace=True)\n",
    "df_corpus = df_corpus.reset_index(drop=True)\n",
    "len(df_corpus)"
   ]
  },
  {
   "cell_type": "code",
   "execution_count": 31,
   "metadata": {},
   "outputs": [
    {
     "name": "stdout",
     "output_type": "stream",
     "text": [
      "核心技术 579\n",
      "推广 1081\n",
      "增值 1174\n",
      "领先 1243\n",
      "贴现 701\n",
      "考核 2198\n",
      "获授 471\n",
      "绩效 827\n",
      "新兴 848\n",
      "折现 790\n",
      "动力 1150\n",
      "有效性 1679\n",
      "健全 1476\n",
      "适用 0\n",
      "自有 1388\n",
      "超募 554\n",
      "广泛 0\n",
      "合规 2286\n",
      "资助 840\n",
      "团队 1519\n",
      "派息 829\n",
      "优秀 904\n",
      "着力 776\n",
      "溢价 759\n",
      "定制 444\n",
      "通过 0\n",
      "预先 809\n",
      "高端 1004\n",
      "创造 1366\n",
      "创业 543\n",
      "成就 398\n",
      "改进 1163\n",
      "引领 679\n",
      "稳步 1029\n",
      "引进 988\n",
      "试行 1113\n",
      "差异化 658\n",
      "扶贫 175\n",
      "派发 1244\n",
      "驱动 749\n",
      "一流 699\n",
      "现金管理 539\n",
      "首个 456\n",
      "国际化 878\n",
      "技术骨干 98\n",
      "最佳 992\n",
      "安全性 771\n",
      "精准 368\n",
      "关键 1275\n",
      "幸福 251\n",
      "股息 690\n",
      "成果 2463\n",
      "履约 700\n",
      "改造 1290\n",
      "还本付息 697\n",
      "净亏损 900\n",
      "无限 1654\n",
      "除息 103\n",
      "付息 1259\n",
      "下跌 967\n",
      "融券 1088\n",
      "减值 1242\n",
      "无偿 997\n",
      "解散 417\n",
      "摊薄 698\n",
      "不可 0\n",
      "享受 1381\n",
      "不利 1767\n",
      "筹划 805\n",
      "未能 2267\n",
      "下滑 838\n",
      "债权 1471\n",
      "遭受 972\n",
      "不足 0\n",
      "下降 2239\n",
      "赔付 562\n",
      "支付现金 1080\n",
      "利息支出 1365\n",
      "放弃 1449\n",
      "偿还债务 1272\n",
      "更名 893\n",
      "平稳 838\n",
      "卖出 675\n",
      "拆出 160\n",
      "侵占 362\n",
      "只能 1146\n",
      "兑付 1252\n",
      "放缓 889\n",
      "返还 1311\n",
      "停牌 872\n",
      "流出 1347\n",
      "商誉 1207\n",
      "违约 1235\n",
      "亏损 2050\n",
      "出售 2227\n",
      "弥补 1067\n",
      "资产重组 2556\n",
      "坏账 546\n",
      "立案 401\n",
      "购回 1054\n",
      "补偿 1522\n",
      "证券 12889\n",
      "代码 10918\n",
      "公告 13438\n",
      "编号 10847\n",
      "优先股 2236\n",
      "平银优 12\n",
      "股份有限公司 13360\n",
      "年度 9675\n",
      "权益 3704\n",
      "分派 962\n",
      "实施 7214\n",
      "公司 17175\n",
      "董事会 15894\n",
      "全体成员 5296\n",
      "保证 14392\n",
      "信息 9849\n",
      "披露 11336\n",
      "内容 14579\n",
      "真实 9837\n",
      "准确 9152\n",
      "完整 9742\n",
      "虚假 12443\n",
      "记载 12482\n",
      "误导性 12261\n",
      "陈述 12746\n",
      "遗漏 12533\n",
      "方案 5317\n",
      "已获 248\n",
      "年度股东大会 3902\n",
      "审议 11494\n",
      "现将 1810\n",
      "事宜 4439\n",
      "股东大会 7911\n",
      "利润分配 4271\n",
      "资本 3536\n",
      "公积金 2343\n",
      "转增 2654\n",
      "股本 3910\n",
      "情况 13628\n",
      "日本 1639\n",
      "总股本 3458\n",
      "股为 1611\n",
      "基数 2152\n",
      "每股 3833\n",
      "发现 3641\n",
      "股利 2162\n",
      "人民币 7737\n",
      "含税 2273\n",
      "资本公积 2028\n",
      "股自 53\n",
      "分配 2996\n",
      "期间 5745\n",
      "总额 5990\n",
      "发生变化 2035\n",
      "距离 304\n",
      "时间 6592\n",
      "超过 6550\n",
      "两个 1828\n",
      "现有 2438\n",
      "股东 11434\n",
      "派元 263\n",
      "现金 4327\n",
      "扣税 236\n",
      "持有 7171\n",
      "股改 396\n",
      "限售 979\n",
      "首发 476\n",
      "证券投资基金 1278\n",
      "股及 328\n",
      "流通股 1298\n",
      "利税 88\n",
      "实行 2028\n",
      "差别化 176\n",
      "税率 1109\n",
      "征收 907\n",
      "权益登记日 69\n",
      "投资者 7664\n",
      "减持 1025\n",
      "股票 6916\n",
      "持股 4357\n",
      "期限 4799\n",
      "补缴 186\n",
      "税款 1112\n",
      "所涉 491\n",
      "香港 3095\n",
      "基金份额 126\n",
      "内地 284\n",
      "非居民企业 267\n",
      "代扣代缴 572\n",
      "所得税 1628\n",
      "纳税人 411\n",
      "所得 1180\n",
      "发生地 79\n",
      "缴纳 1906\n",
      "股注 283\n",
      "先进先出 57\n",
      "原则 4789\n",
      "账户 3040\n",
      "单位 6678\n",
      "计算 3344\n",
      "含个 199\n",
      "以内 1279\n",
      "股权登记日 1824\n",
      "除权除息日 148\n",
      "对象 4527\n",
      "截止 3276\n",
      "下午 1935\n",
      "深圳证券交易所 4955\n",
      "收市 1492\n",
      "深圳 3099\n",
      "分公司 3533\n",
      "中国 6889\n",
      "结算 3103\n",
      "登记在册 1752\n",
      "方法 3185\n",
      "股于 196\n",
      "记入 278\n",
      "转股 775\n",
      "过程 3909\n",
      "小数点 94\n",
      "尾数 305\n",
      "由大到 28\n",
      "排序 138\n",
      "依次 346\n",
      "股若 63\n",
      "时则 228\n",
      "系统 3778\n",
      "随机 100\n",
      "直至 1141\n",
      "总数 3967\n",
      "委托 5257\n",
      "代派 56\n",
      "红利 1738\n",
      "托管 1635\n",
      "证券公司 2071\n",
      "机构 7242\n",
      "划入 478\n",
      "资金账户 607\n",
      "由本 1215\n",
      "自行 1535\n",
      "序号 2903\n",
      "账号 882\n",
      "名称 6295\n",
      "中国平安保险集团 102\n",
      "集团 5335\n",
      "本级 74\n",
      "自有资金 2104\n",
      "人寿 488\n",
      "保险股份有限公司 782\n",
      "传统 1255\n",
      "保险产品 246\n",
      "分红 2368\n",
      "团险 12\n",
      "个险 47\n",
      "业务 8787\n",
      "申请 4840\n",
      "日至 692\n",
      "登记日 614\n",
      "如因 72\n",
      "自派 37\n",
      "股份 7925\n",
      "减少 3399\n",
      "导致 3762\n",
      "法律责任 2232\n",
      "后果 445\n",
      "承担 9052\n",
      "起始 936\n",
      "交易日 2245\n",
      "变动 3490\n",
      "前本 262\n",
      "增至 776\n",
      "股八 19\n",
      "调整 5656\n",
      "相关 13726\n",
      "参数 698\n",
      "股摊 38\n",
      "每股净收益 21\n",
      "为元 2748\n",
      "咨询机构 477\n",
      "咨询 2407\n",
      "地址 2916\n",
      "广东省 955\n",
      "深圳市 1911\n",
      "深南 305\n",
      "东路 716\n",
      "联系人 2201\n",
      "办公室 1608\n",
      "咨询电话 193\n",
      "传真电话 236\n",
      "备查 3030\n",
      "文件 7439\n",
      "第九届 423\n",
      "第二十次 514\n",
      "会议 10535\n",
      "决议 7348\n",
      "特此 8992\n",
      "福田区 515\n",
      "中心 2985\n",
      "四路 63\n"
     ]
    }
   ],
   "source": [
    "for i in range(300):\n",
    "    \n",
    "    print(str(df_corpus.word[i]) + \" \" + str(df_corpus.num[i]))"
   ]
  },
  {
   "cell_type": "code",
   "execution_count": 40,
   "metadata": {},
   "outputs": [
    {
     "name": "stdout",
     "output_type": "stream",
     "text": [
      "144.81779818306146\n",
      "22\n"
     ]
    },
    {
     "data": {
      "image/png": "[encoded data removed]",
      "text/plain": [
       "<Figure size 432x288 with 1 Axes>"
      ]
     },
     "metadata": {
      "needs_background": "light"
     },
     "output_type": "display_data"
    }
   ],
   "source": [
    "from matplotlib import pyplot as plt\n",
    "\n",
    "num_list = list(df_corpus['num'])\n",
    "print(mean(num_list))\n",
    "print(median(num_list))\n",
    "\n",
    "plt.hist(num_list,500)\n",
    "\n",
    "plt.show()"
   ]
  },
  {
   "cell_type": "code",
   "execution_count": 41,
   "metadata": {},
   "outputs": [
    {
     "data": {
      "text/plain": [
       "12887"
      ]
     },
     "execution_count": 41,
     "metadata": {},
     "output_type": "execute_result"
    }
   ],
   "source": [
    "# remove num ≤ 65\n",
    "\n",
    "df_corpus.drop(df_corpus.loc[df_corpus['num']<=65].index, inplace=True)\n",
    "df_corpus = df_corpus.reset_index(drop=True)\n",
    "len(df_corpus)"
   ]
  },
  {
   "cell_type": "code",
   "execution_count": 42,
   "metadata": {},
   "outputs": [
    {
     "name": "stdout",
     "output_type": "stream",
     "text": [
      "513.8556685031427\n",
      "189\n"
     ]
    }
   ],
   "source": [
    "num_list = list(df_corpus['num'])\n",
    "print(mean(num_list))\n",
    "print(median(num_list))"
   ]
  },
  {
   "cell_type": "code",
   "execution_count": 43,
   "metadata": {},
   "outputs": [
    {
     "name": "stdout",
     "output_type": "stream",
     "text": [
      "核心技术 579\n",
      "推广 1081\n",
      "增值 1174\n",
      "领先 1243\n",
      "贴现 701\n",
      "考核 2198\n",
      "获授 471\n",
      "绩效 827\n",
      "新兴 848\n",
      "折现 790\n",
      "动力 1150\n",
      "有效性 1679\n",
      "健全 1476\n",
      "自有 1388\n",
      "超募 554\n",
      "合规 2286\n",
      "资助 840\n",
      "团队 1519\n",
      "派息 829\n",
      "优秀 904\n",
      "着力 776\n",
      "溢价 759\n",
      "定制 444\n",
      "预先 809\n",
      "高端 1004\n",
      "创造 1366\n",
      "创业 543\n",
      "成就 398\n",
      "改进 1163\n",
      "引领 679\n",
      "稳步 1029\n",
      "引进 988\n",
      "试行 1113\n",
      "差异化 658\n",
      "扶贫 175\n",
      "派发 1244\n",
      "驱动 749\n",
      "一流 699\n",
      "现金管理 539\n",
      "首个 456\n",
      "国际化 878\n",
      "技术骨干 98\n",
      "最佳 992\n",
      "安全性 771\n",
      "精准 368\n",
      "关键 1275\n",
      "幸福 251\n",
      "股息 690\n",
      "成果 2463\n",
      "履约 700\n",
      "改造 1290\n",
      "还本付息 697\n",
      "净亏损 900\n",
      "无限 1654\n",
      "除息 103\n",
      "付息 1259\n",
      "下跌 967\n",
      "融券 1088\n",
      "减值 1242\n",
      "无偿 997\n",
      "解散 417\n",
      "摊薄 698\n",
      "享受 1381\n",
      "不利 1767\n",
      "筹划 805\n",
      "未能 2267\n",
      "下滑 838\n",
      "债权 1471\n",
      "遭受 972\n",
      "下降 2239\n",
      "赔付 562\n",
      "支付现金 1080\n",
      "利息支出 1365\n",
      "放弃 1449\n",
      "偿还债务 1272\n",
      "更名 893\n",
      "平稳 838\n",
      "卖出 675\n",
      "拆出 160\n",
      "侵占 362\n",
      "只能 1146\n",
      "兑付 1252\n",
      "放缓 889\n",
      "返还 1311\n",
      "停牌 872\n",
      "流出 1347\n",
      "商誉 1207\n",
      "违约 1235\n",
      "亏损 2050\n",
      "出售 2227\n",
      "弥补 1067\n",
      "资产重组 2556\n",
      "坏账 546\n",
      "立案 401\n",
      "购回 1054\n",
      "补偿 1522\n",
      "证券 12889\n",
      "代码 10918\n",
      "公告 13438\n",
      "编号 10847\n",
      "优先股 2236\n",
      "股份有限公司 13360\n",
      "年度 9675\n",
      "权益 3704\n",
      "分派 962\n",
      "实施 7214\n",
      "公司 17175\n",
      "董事会 15894\n",
      "全体成员 5296\n",
      "保证 14392\n",
      "信息 9849\n",
      "披露 11336\n",
      "内容 14579\n",
      "真实 9837\n",
      "准确 9152\n",
      "完整 9742\n",
      "虚假 12443\n",
      "记载 12482\n",
      "误导性 12261\n",
      "陈述 12746\n",
      "遗漏 12533\n",
      "方案 5317\n",
      "已获 248\n",
      "年度股东大会 3902\n",
      "审议 11494\n",
      "现将 1810\n",
      "事宜 4439\n",
      "股东大会 7911\n",
      "利润分配 4271\n",
      "资本 3536\n",
      "公积金 2343\n",
      "转增 2654\n",
      "股本 3910\n",
      "情况 13628\n",
      "日本 1639\n",
      "总股本 3458\n",
      "股为 1611\n",
      "基数 2152\n",
      "每股 3833\n",
      "发现 3641\n",
      "股利 2162\n",
      "人民币 7737\n",
      "含税 2273\n",
      "资本公积 2028\n",
      "分配 2996\n",
      "期间 5745\n",
      "总额 5990\n",
      "发生变化 2035\n",
      "距离 304\n",
      "时间 6592\n",
      "超过 6550\n",
      "两个 1828\n",
      "现有 2438\n",
      "股东 11434\n",
      "派元 263\n",
      "现金 4327\n",
      "扣税 236\n",
      "持有 7171\n",
      "股改 396\n",
      "限售 979\n",
      "首发 476\n",
      "证券投资基金 1278\n",
      "股及 328\n",
      "流通股 1298\n",
      "利税 88\n",
      "实行 2028\n",
      "差别化 176\n",
      "税率 1109\n",
      "征收 907\n",
      "权益登记日 69\n",
      "投资者 7664\n",
      "减持 1025\n",
      "股票 6916\n",
      "持股 4357\n",
      "期限 4799\n",
      "补缴 186\n",
      "税款 1112\n",
      "所涉 491\n",
      "香港 3095\n",
      "基金份额 126\n",
      "内地 284\n",
      "非居民企业 267\n",
      "代扣代缴 572\n",
      "所得税 1628\n",
      "纳税人 411\n",
      "所得 1180\n",
      "发生地 79\n",
      "缴纳 1906\n",
      "股注 283\n",
      "原则 4789\n",
      "账户 3040\n",
      "单位 6678\n",
      "计算 3344\n",
      "含个 199\n",
      "以内 1279\n",
      "股权登记日 1824\n",
      "除权除息日 148\n",
      "对象 4527\n",
      "截止 3276\n",
      "下午 1935\n",
      "深圳证券交易所 4955\n",
      "收市 1492\n",
      "深圳 3099\n",
      "分公司 3533\n",
      "中国 6889\n",
      "结算 3103\n",
      "登记在册 1752\n",
      "方法 3185\n",
      "股于 196\n",
      "记入 278\n",
      "转股 775\n",
      "过程 3909\n",
      "小数点 94\n",
      "尾数 305\n",
      "排序 138\n",
      "依次 346\n",
      "时则 228\n",
      "系统 3778\n",
      "随机 100\n",
      "直至 1141\n",
      "总数 3967\n",
      "委托 5257\n",
      "红利 1738\n",
      "托管 1635\n",
      "证券公司 2071\n",
      "机构 7242\n",
      "划入 478\n",
      "资金账户 607\n",
      "由本 1215\n",
      "自行 1535\n",
      "序号 2903\n",
      "账号 882\n",
      "名称 6295\n",
      "中国平安保险集团 102\n",
      "集团 5335\n",
      "本级 74\n",
      "自有资金 2104\n",
      "人寿 488\n",
      "保险股份有限公司 782\n",
      "传统 1255\n",
      "保险产品 246\n",
      "分红 2368\n",
      "业务 8787\n",
      "申请 4840\n",
      "日至 692\n",
      "登记日 614\n",
      "如因 72\n",
      "股份 7925\n",
      "减少 3399\n",
      "导致 3762\n",
      "法律责任 2232\n",
      "后果 445\n",
      "承担 9052\n",
      "起始 936\n",
      "交易日 2245\n",
      "变动 3490\n",
      "前本 262\n",
      "增至 776\n",
      "调整 5656\n",
      "相关 13726\n",
      "参数 698\n",
      "为元 2748\n",
      "咨询机构 477\n",
      "咨询 2407\n",
      "地址 2916\n",
      "广东省 955\n",
      "深圳市 1911\n",
      "深南 305\n",
      "东路 716\n",
      "联系人 2201\n",
      "办公室 1608\n",
      "咨询电话 193\n",
      "传真电话 236\n",
      "备查 3030\n",
      "文件 7439\n",
      "第九届 423\n",
      "第二十次 514\n",
      "会议 10535\n",
      "决议 7348\n",
      "特此 8992\n",
      "福田区 515\n",
      "中心 2985\n",
      "建设 4722\n",
      "广场 1079\n",
      "第层 71\n",
      "邮编 836\n",
      "电话传真 2196\n",
      "法律 5335\n",
      "意见书 1684\n",
      "北京市 2895\n",
      "律师事务 408\n",
      "本所 1035\n",
      "接受 3701\n",
      "中华人民共和国 3837\n",
      "公司法 6857\n",
      "上市公司 9867\n",
      "规则 6272\n",
      "出具 6171\n",
      "目的 3528\n",
      "包括 6820\n"
     ]
    }
   ],
   "source": [
    "for i in range(300):\n",
    "    \n",
    "    print(str(df_corpus.word[i]) + \" \" + str(df_corpus.num[i]))"
   ]
  },
  {
   "cell_type": "code",
   "execution_count": null,
   "metadata": {},
   "outputs": [],
   "source": [
    "def count_report_num(filename,t1,t2):\n",
    "    \n",
    "    num = 0\n",
    "    \n",
    "    df_hs300 = pd.read_csv('data/HS300/' + filename + '.csv')\n",
    "    stock_code = list(df_hs300['成份代码'])\n",
    "    foldername = t1+'-'+t2\n",
    "\n",
    "    for i in range(len(stock_code)):\n",
    "        \n",
    "       \n",
    "        one_stock_code = stock_code[i]\n",
    "        savefilepath = 'data/HS300/' + foldername + '/'+ one_stock_code+'.csv'\n",
    "        df = pd.read_csv(savefilepath)\n",
    "        df = df.dropna()\n",
    "        df = df.reset_index(drop=True)"
   ]
  }
 ],
 "metadata": {
  "kernelspec": {
   "display_name": "Python 3",
   "language": "python",
   "name": "python3"
  },
  "language_info": {
   "codemirror_mode": {
    "name": "ipython",
    "version": 3
   },
   "file_extension": ".py",
   "mimetype": "text/x-python",
   "name": "python",
   "nbconvert_exporter": "python",
   "pygments_lexer": "ipython3",
   "version": "3.8.3"
  }
 },
 "nbformat": 4,
 "nbformat_minor": 4
}
