{
 "cells": [
  {
   "cell_type": "code",
   "execution_count": 47,
   "metadata": {},
   "outputs": [],
   "source": [
    "import pandas as pd\n",
    "pd.options.mode.chained_assignment = None  # default='warn'"
   ]
  },
  {
   "cell_type": "code",
   "execution_count": 48,
   "metadata": {},
   "outputs": [
    {
     "data": {
      "text/plain": [
       "43021"
      ]
     },
     "execution_count": 48,
     "metadata": {},
     "output_type": "execute_result"
    }
   ],
   "source": [
    "positive_dict = pd.read_csv(\"../已有情感词典/positive_combine.csv\")\n",
    "negative_dict = pd.read_csv(\"../已有情感词典/negative_combine.csv\")\n",
    "\n",
    "sentiment_dict = list(positive_dict['word'])\n",
    "sentiment_dict.extend(list(negative_dict['word']))\n",
    "len(sentiment_dict)"
   ]
  },
  {
   "cell_type": "code",
   "execution_count": 49,
   "metadata": {},
   "outputs": [
    {
     "data": {
      "text/plain": [
       "9140"
      ]
     },
     "execution_count": 49,
     "metadata": {},
     "output_type": "execute_result"
    }
   ],
   "source": [
    "corpus = pd.read_csv(\"data/HS300/corpus_all8.csv\")\n",
    "corpus = list(corpus['word'])\n",
    "len(corpus)"
   ]
  },
  {
   "cell_type": "code",
   "execution_count": 50,
   "metadata": {},
   "outputs": [],
   "source": [
    "def intersection(lst1, lst2):\n",
    "    return list(set(lst1) & set(lst2))"
   ]
  },
  {
   "cell_type": "code",
   "execution_count": 51,
   "metadata": {},
   "outputs": [
    {
     "name": "stdout",
     "output_type": "stream",
     "text": [
      "956\n"
     ]
    },
    {
     "data": {
      "text/plain": [
       "['顺利完成', '高额', '创作', '专业人士', '愿景', '独立自主', '卫生', '吉利', '先机', '自主']"
      ]
     },
     "execution_count": 51,
     "metadata": {},
     "output_type": "execute_result"
    }
   ],
   "source": [
    "positive_overlap = intersection(list(positive_dict['word']), corpus)\n",
    "print(len(positive_overlap))\n",
    "positive_overlap[0:10]"
   ]
  },
  {
   "cell_type": "code",
   "execution_count": 52,
   "metadata": {},
   "outputs": [
    {
     "name": "stdout",
     "output_type": "stream",
     "text": [
      "570\n"
     ]
    },
    {
     "data": {
      "text/plain": [
       "['缩小', '询问', '操纵', '疾病', '除息', '损耗', '联络', '污染', '威胁', '低效']"
      ]
     },
     "execution_count": 52,
     "metadata": {},
     "output_type": "execute_result"
    }
   ],
   "source": [
    "negative_overlap = intersection(list(negative_dict['word']), corpus)\n",
    "print(len(negative_overlap))\n",
    "negative_overlap[0:10]"
   ]
  },
  {
   "cell_type": "code",
   "execution_count": 53,
   "metadata": {},
   "outputs": [],
   "source": [
    "def diff(listA,listB):\n",
    "    \n",
    "    #求差集，在B中但不在A中\n",
    "    retD = list(set(listB).difference(set(listA)))\n",
    "    return retD"
   ]
  },
  {
   "cell_type": "code",
   "execution_count": 55,
   "metadata": {},
   "outputs": [
    {
     "data": {
      "text/plain": [
       "8184"
      ]
     },
     "execution_count": 55,
     "metadata": {},
     "output_type": "execute_result"
    }
   ],
   "source": [
    "corpus1 = diff(positive_overlap,corpus)\n",
    "len(corpus1)"
   ]
  },
  {
   "cell_type": "code",
   "execution_count": 56,
   "metadata": {},
   "outputs": [
    {
     "data": {
      "text/plain": [
       "7635"
      ]
     },
     "execution_count": 56,
     "metadata": {},
     "output_type": "execute_result"
    }
   ],
   "source": [
    "neural = diff(negative_overlap,corpus1)\n",
    "len(neural)"
   ]
  },
  {
   "cell_type": "code",
   "execution_count": null,
   "metadata": {},
   "outputs": [],
   "source": []
  },
  {
   "cell_type": "code",
   "execution_count": null,
   "metadata": {},
   "outputs": [],
   "source": []
  },
  {
   "cell_type": "code",
   "execution_count": 17,
   "metadata": {},
   "outputs": [],
   "source": [
    "def form_word2num_dict(corpus_path):\n",
    "    \n",
    "    word2num = {}\n",
    "    \n",
    "    corpus = pd.read_csv(corpus_path)\n",
    "    corpus = list(corpus['word'])\n",
    "    \n",
    "    for i in range(len(corpus)):\n",
    "        \n",
    "        num = i+1\n",
    "        word = corpus[i]\n",
    "        word2num[word] = float(num)\n",
    "    \n",
    "    return word2num"
   ]
  },
  {
   "cell_type": "code",
   "execution_count": 57,
   "metadata": {},
   "outputs": [],
   "source": [
    "def form_num2word_dict(word2num):\n",
    "    \n",
    "    num2word = {}\n",
    "    \n",
    "    key_list = list(word2num.keys())\n",
    "    \n",
    "    for i in range(len(key_list)):\n",
    "        \n",
    "        num = float(i+1)\n",
    "        word = key_list[i]\n",
    "        num2word[str(num)] = word\n",
    "    \n",
    "    return num2word"
   ]
  },
  {
   "cell_type": "code",
   "execution_count": 29,
   "metadata": {},
   "outputs": [],
   "source": [
    "def word2num(word_str,word2num_dict):\n",
    "    \n",
    "    word_list = list(word_str.split(\"/\"))\n",
    "    num_list = []\n",
    "    \n",
    "    for i in range(len(word_list)):\n",
    "        \n",
    "        word = word_list[i]\n",
    "        if(word in word2num_dict.keys()):\n",
    "            num_list.append(word2num_dict[word])\n",
    "        else:\n",
    "            num_list.append(0.0)\n",
    "    \n",
    "    length = len(num_list)\n",
    "    num_list = '/'.join(str(n) for n in num_list)\n",
    "    return num_list,length"
   ]
  },
  {
   "cell_type": "code",
   "execution_count": 30,
   "metadata": {},
   "outputs": [],
   "source": [
    "def process_dataframe(df,word2num_dict):\n",
    "    \n",
    "    df = df.dropna()\n",
    "    df = df.reset_index(drop=True)\n",
    "    \n",
    "    del df['ann_type']\n",
    "    del df['title']\n",
    "    del df['content']\n",
    "    \n",
    "    df['length'] = 0\n",
    "    \n",
    "    for i in range(len(df)):\n",
    "        \n",
    "        df.words[i],df.length[i] = word2num(df.words[i],word2num_dict)\n",
    "    \n",
    "    return df"
   ]
  },
  {
   "cell_type": "code",
   "execution_count": 38,
   "metadata": {},
   "outputs": [],
   "source": [
    "def form_dataset(filename,t1,t2):\n",
    "    \n",
    "    word2num_dict = form_word2num_dict(\"data/HS300/corpus_all8.csv\")\n",
    "\n",
    "    \n",
    "    df_hs300 = pd.read_csv('data/HS300/' + filename + '.csv')\n",
    "    stock_code = list(df_hs300['成份代码'])\n",
    "    foldername = t1+'-'+t2\n",
    "    \n",
    "    result = []\n",
    "\n",
    "    for i in range(len(stock_code)):\n",
    "        \n",
    "        one_stock_code = stock_code[i]\n",
    "        savefilepath = 'data/HS300/' + foldername + '/'+ one_stock_code+'.csv'\n",
    "        df_report = pd.read_csv(savefilepath)\n",
    "        \n",
    "        df_report = process_dataframe(df_report,word2num_dict)\n",
    "        \n",
    "        result.extend(list(df_report['length']))\n",
    "    \n",
    "    return result"
   ]
  },
  {
   "cell_type": "code",
   "execution_count": 39,
   "metadata": {},
   "outputs": [],
   "source": [
    "result = form_dataset('2015-12-30','20151230','20160613')"
   ]
  },
  {
   "cell_type": "code",
   "execution_count": 40,
   "metadata": {},
   "outputs": [
    {
     "data": {
      "text/plain": [
       "15155"
      ]
     },
     "execution_count": 40,
     "metadata": {},
     "output_type": "execute_result"
    }
   ],
   "source": [
    "len(result)"
   ]
  },
  {
   "cell_type": "code",
   "execution_count": 41,
   "metadata": {},
   "outputs": [
    {
     "data": {
      "text/plain": [
       "202798"
      ]
     },
     "execution_count": 41,
     "metadata": {},
     "output_type": "execute_result"
    }
   ],
   "source": [
    "max(result)"
   ]
  },
  {
   "cell_type": "code",
   "execution_count": 42,
   "metadata": {},
   "outputs": [
    {
     "data": {
      "text/plain": [
       "3"
      ]
     },
     "execution_count": 42,
     "metadata": {},
     "output_type": "execute_result"
    }
   ],
   "source": [
    "min(result)"
   ]
  },
  {
   "cell_type": "code",
   "execution_count": 44,
   "metadata": {},
   "outputs": [
    {
     "data": {
      "text/plain": [
       "2254.7222698779283"
      ]
     },
     "execution_count": 44,
     "metadata": {},
     "output_type": "execute_result"
    }
   ],
   "source": [
    "import statistics\n",
    "statistics.mean(result)"
   ]
  },
  {
   "cell_type": "code",
   "execution_count": 45,
   "metadata": {},
   "outputs": [
    {
     "data": {
      "text/plain": [
       "563"
      ]
     },
     "execution_count": 45,
     "metadata": {},
     "output_type": "execute_result"
    }
   ],
   "source": [
    "import statistics\n",
    "statistics.median(result)"
   ]
  },
  {
   "cell_type": "code",
   "execution_count": null,
   "metadata": {},
   "outputs": [],
   "source": []
  },
  {
   "cell_type": "code",
   "execution_count": 31,
   "metadata": {},
   "outputs": [
    {
     "name": "stdout",
     "output_type": "stream",
     "text": [
      "9140\n",
      "权益\n",
      "1.0\n",
      "检测\n",
      "2.0\n",
      "风险系数\n",
      "3.0\n",
      "机密\n",
      "4.0\n",
      "登记注册\n",
      "5.0\n",
      "失信\n",
      "6.0\n",
      "保持稳定\n",
      "7.0\n",
      "项目合同\n",
      "8.0\n",
      "资源税\n",
      "9.0\n",
      "过往\n",
      "10.0\n"
     ]
    }
   ],
   "source": [
    "word2num_dict = form_word2num_dict(\"data/HS300/corpus_all8.csv\")\n",
    "print(len(word2num_dict))\n",
    "\n",
    "for i in range(10):\n",
    "    word = list(word2num_dict.keys())[i]\n",
    "    print(word)\n",
    "    print(word2num_dict[word])"
   ]
  },
  {
   "cell_type": "code",
   "execution_count": 59,
   "metadata": {},
   "outputs": [
    {
     "name": "stdout",
     "output_type": "stream",
     "text": [
      "9140\n",
      "1.0\n",
      "权益\n",
      "2.0\n",
      "检测\n",
      "3.0\n",
      "风险系数\n",
      "4.0\n",
      "机密\n",
      "5.0\n",
      "登记注册\n",
      "6.0\n",
      "失信\n",
      "7.0\n",
      "保持稳定\n",
      "8.0\n",
      "项目合同\n",
      "9.0\n",
      "资源税\n",
      "10.0\n",
      "过往\n"
     ]
    }
   ],
   "source": [
    "num2word_dict = form_num2word_dict(word2num_dict)\n",
    "print(len(num2word_dict))\n",
    "\n",
    "for i in range(10):\n",
    "    num = list(num2word_dict.keys())[i]\n",
    "    print(num)\n",
    "    print(num2word_dict[num])"
   ]
  },
  {
   "cell_type": "code",
   "execution_count": null,
   "metadata": {},
   "outputs": [],
   "source": []
  },
  {
   "cell_type": "code",
   "execution_count": 32,
   "metadata": {},
   "outputs": [
    {
     "data": {
      "text/plain": [
       "437"
      ]
     },
     "execution_count": 32,
     "metadata": {},
     "output_type": "execute_result"
    }
   ],
   "source": [
    "dfr = pd.read_csv(\"data/HS300/20151230-20160613/000001.SZ.csv\")\n",
    "num_list,length = word2num(dfr.words[0],word2num_dict)\n",
    "length"
   ]
  },
  {
   "cell_type": "code",
   "execution_count": 33,
   "metadata": {},
   "outputs": [
    {
     "data": {
      "text/plain": [
       "'3094.0/2090.0/3094.0'"
      ]
     },
     "execution_count": 33,
     "metadata": {},
     "output_type": "execute_result"
    }
   ],
   "source": [
    "num_list[0:20]"
   ]
  },
  {
   "cell_type": "code",
   "execution_count": 34,
   "metadata": {},
   "outputs": [
    {
     "data": {
      "text/html": [
       "<div>\n",
       "<style scoped>\n",
       "    .dataframe tbody tr th:only-of-type {\n",
       "        vertical-align: middle;\n",
       "    }\n",
       "\n",
       "    .dataframe tbody tr th {\n",
       "        vertical-align: top;\n",
       "    }\n",
       "\n",
       "    .dataframe thead th {\n",
       "        text-align: right;\n",
       "    }\n",
       "</style>\n",
       "<table border=\"1\" class=\"dataframe\">\n",
       "  <thead>\n",
       "    <tr style=\"text-align: right;\">\n",
       "      <th></th>\n",
       "      <th>ann_date</th>\n",
       "      <th>words</th>\n",
       "      <th>accr3</th>\n",
       "      <th>accr5</th>\n",
       "      <th>accr3_label</th>\n",
       "      <th>accr5_label</th>\n",
       "      <th>length</th>\n",
       "    </tr>\n",
       "  </thead>\n",
       "  <tbody>\n",
       "    <tr>\n",
       "      <th>0</th>\n",
       "      <td>20160608</td>\n",
       "      <td>3094.0/2090.0/3094.0/399.0/824.0/6876.0/2090.0...</td>\n",
       "      <td>0.7966</td>\n",
       "      <td>0.0783</td>\n",
       "      <td>1</td>\n",
       "      <td>1</td>\n",
       "      <td>437</td>\n",
       "    </tr>\n",
       "    <tr>\n",
       "      <th>1</th>\n",
       "      <td>20160520</td>\n",
       "      <td>0.0/0.0/0.0/6507.0/0.0/0.0/0.0/6156.0/0.0/0.0/...</td>\n",
       "      <td>0.2525</td>\n",
       "      <td>-0.5925</td>\n",
       "      <td>1</td>\n",
       "      <td>0</td>\n",
       "      <td>718</td>\n",
       "    </tr>\n",
       "    <tr>\n",
       "      <th>2</th>\n",
       "      <td>20160520</td>\n",
       "      <td>0.0/0.0/3094.0/4573.0/6646.0/3511.0/795.0/0.0/...</td>\n",
       "      <td>0.2525</td>\n",
       "      <td>-0.5925</td>\n",
       "      <td>1</td>\n",
       "      <td>0</td>\n",
       "      <td>906</td>\n",
       "    </tr>\n",
       "    <tr>\n",
       "      <th>3</th>\n",
       "      <td>20160520</td>\n",
       "      <td>3094.0/2090.0/3094.0/399.0/824.0/6876.0/2090.0...</td>\n",
       "      <td>0.2525</td>\n",
       "      <td>-0.5925</td>\n",
       "      <td>1</td>\n",
       "      <td>0</td>\n",
       "      <td>930</td>\n",
       "    </tr>\n",
       "    <tr>\n",
       "      <th>4</th>\n",
       "      <td>20160520</td>\n",
       "      <td>3094.0/2090.0/3094.0/399.0/824.0/6876.0/2090.0...</td>\n",
       "      <td>0.2525</td>\n",
       "      <td>-0.5925</td>\n",
       "      <td>1</td>\n",
       "      <td>0</td>\n",
       "      <td>438</td>\n",
       "    </tr>\n",
       "    <tr>\n",
       "      <th>5</th>\n",
       "      <td>20160513</td>\n",
       "      <td>3094.0/2090.0/3094.0/399.0/824.0/6876.0/2090.0...</td>\n",
       "      <td>0.4910</td>\n",
       "      <td>0.1528</td>\n",
       "      <td>1</td>\n",
       "      <td>1</td>\n",
       "      <td>1030</td>\n",
       "    </tr>\n",
       "    <tr>\n",
       "      <th>6</th>\n",
       "      <td>20160421</td>\n",
       "      <td>3094.0/2090.0/3094.0/399.0/824.0/6876.0/2090.0...</td>\n",
       "      <td>0.0625</td>\n",
       "      <td>0.4996</td>\n",
       "      <td>1</td>\n",
       "      <td>1</td>\n",
       "      <td>3361</td>\n",
       "    </tr>\n",
       "    <tr>\n",
       "      <th>7</th>\n",
       "      <td>20160421</td>\n",
       "      <td>3094.0/2090.0/3094.0/399.0/824.0/6876.0/2090.0...</td>\n",
       "      <td>0.0625</td>\n",
       "      <td>0.4996</td>\n",
       "      <td>1</td>\n",
       "      <td>1</td>\n",
       "      <td>153</td>\n",
       "    </tr>\n",
       "    <tr>\n",
       "      <th>8</th>\n",
       "      <td>20160421</td>\n",
       "      <td>3094.0/2090.0/3094.0/399.0/824.0/6876.0/2090.0...</td>\n",
       "      <td>0.0625</td>\n",
       "      <td>0.4996</td>\n",
       "      <td>1</td>\n",
       "      <td>1</td>\n",
       "      <td>493</td>\n",
       "    </tr>\n",
       "    <tr>\n",
       "      <th>9</th>\n",
       "      <td>20160421</td>\n",
       "      <td>3511.0/3128.0/3600.0/8956.0/1307.0/6239.0/3528...</td>\n",
       "      <td>0.0625</td>\n",
       "      <td>0.4996</td>\n",
       "      <td>1</td>\n",
       "      <td>1</td>\n",
       "      <td>73</td>\n",
       "    </tr>\n",
       "    <tr>\n",
       "      <th>10</th>\n",
       "      <td>20160421</td>\n",
       "      <td>3094.0/2090.0/3094.0/399.0/824.0/6876.0/2090.0...</td>\n",
       "      <td>0.0625</td>\n",
       "      <td>0.4996</td>\n",
       "      <td>1</td>\n",
       "      <td>1</td>\n",
       "      <td>2990</td>\n",
       "    </tr>\n",
       "    <tr>\n",
       "      <th>11</th>\n",
       "      <td>20160421</td>\n",
       "      <td>3511.0/4985.0/6378.0/3511.0/4985.0/5559.0/3511...</td>\n",
       "      <td>0.0625</td>\n",
       "      <td>0.4996</td>\n",
       "      <td>1</td>\n",
       "      <td>1</td>\n",
       "      <td>8594</td>\n",
       "    </tr>\n",
       "    <tr>\n",
       "      <th>12</th>\n",
       "      <td>20160421</td>\n",
       "      <td>3094.0/2090.0/3094.0/399.0/824.0/6876.0/2090.0...</td>\n",
       "      <td>0.0625</td>\n",
       "      <td>0.4996</td>\n",
       "      <td>1</td>\n",
       "      <td>1</td>\n",
       "      <td>1016</td>\n",
       "    </tr>\n",
       "    <tr>\n",
       "      <th>13</th>\n",
       "      <td>20160412</td>\n",
       "      <td>3094.0/2090.0/3094.0/399.0/824.0/6876.0/2090.0...</td>\n",
       "      <td>0.4649</td>\n",
       "      <td>1.1332</td>\n",
       "      <td>1</td>\n",
       "      <td>1</td>\n",
       "      <td>78</td>\n",
       "    </tr>\n",
       "    <tr>\n",
       "      <th>14</th>\n",
       "      <td>20160324</td>\n",
       "      <td>3094.0/2090.0/3094.0/399.0/824.0/6876.0/2090.0...</td>\n",
       "      <td>-0.5247</td>\n",
       "      <td>-0.8784</td>\n",
       "      <td>0</td>\n",
       "      <td>0</td>\n",
       "      <td>604</td>\n",
       "    </tr>\n",
       "    <tr>\n",
       "      <th>15</th>\n",
       "      <td>20160324</td>\n",
       "      <td>0.0/0.0/3094.0/4573.0/6646.0/3511.0/6876.0/231...</td>\n",
       "      <td>-0.5247</td>\n",
       "      <td>-0.8784</td>\n",
       "      <td>0</td>\n",
       "      <td>0</td>\n",
       "      <td>1938</td>\n",
       "    </tr>\n",
       "    <tr>\n",
       "      <th>16</th>\n",
       "      <td>20160324</td>\n",
       "      <td>0.0/0.0/3094.0/4573.0/6646.0/3511.0/3769.0/156...</td>\n",
       "      <td>-0.5247</td>\n",
       "      <td>-0.8784</td>\n",
       "      <td>0</td>\n",
       "      <td>0</td>\n",
       "      <td>687</td>\n",
       "    </tr>\n",
       "    <tr>\n",
       "      <th>17</th>\n",
       "      <td>20160324</td>\n",
       "      <td>3094.0/2090.0/3094.0/399.0/824.0/6876.0/2090.0...</td>\n",
       "      <td>-0.5247</td>\n",
       "      <td>-0.8784</td>\n",
       "      <td>0</td>\n",
       "      <td>0</td>\n",
       "      <td>2298</td>\n",
       "    </tr>\n",
       "    <tr>\n",
       "      <th>18</th>\n",
       "      <td>20160324</td>\n",
       "      <td>3511.0/0.0/1270.0/8870.0/6876.0/2317.0/0.0/619...</td>\n",
       "      <td>-0.5247</td>\n",
       "      <td>-0.8784</td>\n",
       "      <td>0</td>\n",
       "      <td>0</td>\n",
       "      <td>1005</td>\n",
       "    </tr>\n",
       "    <tr>\n",
       "      <th>19</th>\n",
       "      <td>20160315</td>\n",
       "      <td>3094.0/2090.0/3094.0/399.0/824.0/3511.0/4633.0...</td>\n",
       "      <td>-0.3703</td>\n",
       "      <td>1.4266</td>\n",
       "      <td>0</td>\n",
       "      <td>1</td>\n",
       "      <td>4216</td>\n",
       "    </tr>\n",
       "    <tr>\n",
       "      <th>20</th>\n",
       "      <td>20160315</td>\n",
       "      <td>3094.0/2090.0/3094.0/399.0/824.0/2005.0/3085.0...</td>\n",
       "      <td>-0.3703</td>\n",
       "      <td>1.4266</td>\n",
       "      <td>0</td>\n",
       "      <td>1</td>\n",
       "      <td>5274</td>\n",
       "    </tr>\n",
       "    <tr>\n",
       "      <th>21</th>\n",
       "      <td>20160315</td>\n",
       "      <td>3094.0/2090.0/3094.0/399.0/824.0/3511.0/6876.0...</td>\n",
       "      <td>-0.3703</td>\n",
       "      <td>1.4266</td>\n",
       "      <td>0</td>\n",
       "      <td>1</td>\n",
       "      <td>432</td>\n",
       "    </tr>\n",
       "    <tr>\n",
       "      <th>22</th>\n",
       "      <td>20160315</td>\n",
       "      <td>3511.0/0.0/1270.0/8870.0/6876.0/3085.0/2005.0/...</td>\n",
       "      <td>-0.3703</td>\n",
       "      <td>1.4266</td>\n",
       "      <td>0</td>\n",
       "      <td>1</td>\n",
       "      <td>32945</td>\n",
       "    </tr>\n",
       "    <tr>\n",
       "      <th>23</th>\n",
       "      <td>20160315</td>\n",
       "      <td>3511.0/0.0/1270.0/8870.0/6876.0/8870.0/177.0/4...</td>\n",
       "      <td>-0.3703</td>\n",
       "      <td>1.4266</td>\n",
       "      <td>0</td>\n",
       "      <td>1</td>\n",
       "      <td>1420</td>\n",
       "    </tr>\n",
       "    <tr>\n",
       "      <th>24</th>\n",
       "      <td>20160315</td>\n",
       "      <td>4769.0/1563.0/1584.0/4769.0/0.0/147.0/3511.0/0...</td>\n",
       "      <td>-0.3703</td>\n",
       "      <td>1.4266</td>\n",
       "      <td>0</td>\n",
       "      <td>1</td>\n",
       "      <td>1963</td>\n",
       "    </tr>\n",
       "    <tr>\n",
       "      <th>25</th>\n",
       "      <td>20160315</td>\n",
       "      <td>3511.0/1159.0/3511.0/1159.0/1159.0/6646.0/0.0/...</td>\n",
       "      <td>-0.3703</td>\n",
       "      <td>1.4266</td>\n",
       "      <td>0</td>\n",
       "      <td>1</td>\n",
       "      <td>10597</td>\n",
       "    </tr>\n",
       "    <tr>\n",
       "      <th>26</th>\n",
       "      <td>20160310</td>\n",
       "      <td>3511.0/3769.0/6939.0/5312.0/3176.0/8917.0/2401...</td>\n",
       "      <td>1.1254</td>\n",
       "      <td>1.9031</td>\n",
       "      <td>1</td>\n",
       "      <td>1</td>\n",
       "      <td>857</td>\n",
       "    </tr>\n",
       "    <tr>\n",
       "      <th>27</th>\n",
       "      <td>20160310</td>\n",
       "      <td>3511.0/3128.0/7511.0/3600.0/8956.0/1307.0/6239...</td>\n",
       "      <td>1.1254</td>\n",
       "      <td>1.9031</td>\n",
       "      <td>1</td>\n",
       "      <td>1</td>\n",
       "      <td>294</td>\n",
       "    </tr>\n",
       "    <tr>\n",
       "      <th>28</th>\n",
       "      <td>20160310</td>\n",
       "      <td>3094.0/2090.0/3094.0/399.0/824.0/3511.0/4310.0...</td>\n",
       "      <td>1.1254</td>\n",
       "      <td>1.9031</td>\n",
       "      <td>1</td>\n",
       "      <td>1</td>\n",
       "      <td>174</td>\n",
       "    </tr>\n",
       "    <tr>\n",
       "      <th>29</th>\n",
       "      <td>20160310</td>\n",
       "      <td>3511.0/4370.0/0.0/2005.0/4904.0/2206.0/3089.0/...</td>\n",
       "      <td>1.1254</td>\n",
       "      <td>1.9031</td>\n",
       "      <td>1</td>\n",
       "      <td>1</td>\n",
       "      <td>34250</td>\n",
       "    </tr>\n",
       "    <tr>\n",
       "      <th>30</th>\n",
       "      <td>20160310</td>\n",
       "      <td>3511.0/4310.0/6646.0/3769.0/8024.0/5741.0/7299...</td>\n",
       "      <td>1.1254</td>\n",
       "      <td>1.9031</td>\n",
       "      <td>1</td>\n",
       "      <td>1</td>\n",
       "      <td>109</td>\n",
       "    </tr>\n",
       "    <tr>\n",
       "      <th>31</th>\n",
       "      <td>20160310</td>\n",
       "      <td>3511.0/3128.0/2829.0/6229.0/2829.0/3511.0/3089...</td>\n",
       "      <td>1.1254</td>\n",
       "      <td>1.9031</td>\n",
       "      <td>1</td>\n",
       "      <td>1</td>\n",
       "      <td>657</td>\n",
       "    </tr>\n",
       "    <tr>\n",
       "      <th>32</th>\n",
       "      <td>20160310</td>\n",
       "      <td>5048.0/2112.0/456.0/7997.0/23.0/5048.0/2112.0/...</td>\n",
       "      <td>1.1254</td>\n",
       "      <td>1.9031</td>\n",
       "      <td>1</td>\n",
       "      <td>1</td>\n",
       "      <td>14931</td>\n",
       "    </tr>\n",
       "    <tr>\n",
       "      <th>33</th>\n",
       "      <td>20160310</td>\n",
       "      <td>0.0/0.0/3094.0/4573.0/6646.0/3511.0/3769.0/693...</td>\n",
       "      <td>1.1254</td>\n",
       "      <td>1.9031</td>\n",
       "      <td>1</td>\n",
       "      <td>1</td>\n",
       "      <td>760</td>\n",
       "    </tr>\n",
       "    <tr>\n",
       "      <th>34</th>\n",
       "      <td>20160310</td>\n",
       "      <td>3094.0/2090.0/3094.0/399.0/824.0/3511.0/628.0/...</td>\n",
       "      <td>1.1254</td>\n",
       "      <td>1.9031</td>\n",
       "      <td>1</td>\n",
       "      <td>1</td>\n",
       "      <td>666</td>\n",
       "    </tr>\n",
       "    <tr>\n",
       "      <th>35</th>\n",
       "      <td>20160310</td>\n",
       "      <td>3511.0/3769.0/6939.0/5312.0/3176.0/8917.0/2401...</td>\n",
       "      <td>1.1254</td>\n",
       "      <td>1.9031</td>\n",
       "      <td>1</td>\n",
       "      <td>1</td>\n",
       "      <td>798</td>\n",
       "    </tr>\n",
       "    <tr>\n",
       "      <th>36</th>\n",
       "      <td>20160310</td>\n",
       "      <td>4133.0/7299.0/0.0/0.0/0.0/0.0/0.0/0.0/0.0/3511...</td>\n",
       "      <td>1.1254</td>\n",
       "      <td>1.9031</td>\n",
       "      <td>1</td>\n",
       "      <td>1</td>\n",
       "      <td>113</td>\n",
       "    </tr>\n",
       "    <tr>\n",
       "      <th>37</th>\n",
       "      <td>20160310</td>\n",
       "      <td>3511.0/3769.0/8024.0/5741.0/7299.0/0.0/3769.0/...</td>\n",
       "      <td>1.1254</td>\n",
       "      <td>1.9031</td>\n",
       "      <td>1</td>\n",
       "      <td>1</td>\n",
       "      <td>4851</td>\n",
       "    </tr>\n",
       "    <tr>\n",
       "      <th>38</th>\n",
       "      <td>20160310</td>\n",
       "      <td>3511.0/3769.0/5988.0/4064.0/3511.0/3769.0/5988...</td>\n",
       "      <td>1.1254</td>\n",
       "      <td>1.9031</td>\n",
       "      <td>1</td>\n",
       "      <td>1</td>\n",
       "      <td>14699</td>\n",
       "    </tr>\n",
       "    <tr>\n",
       "      <th>39</th>\n",
       "      <td>20160310</td>\n",
       "      <td>3094.0/2090.0/3094.0/399.0/824.0/3511.0/4370.0...</td>\n",
       "      <td>1.1254</td>\n",
       "      <td>1.9031</td>\n",
       "      <td>1</td>\n",
       "      <td>1</td>\n",
       "      <td>4994</td>\n",
       "    </tr>\n",
       "    <tr>\n",
       "      <th>40</th>\n",
       "      <td>20160310</td>\n",
       "      <td>3511.0/3769.0/6709.0/8927.0/9008.0/5312.0/8917...</td>\n",
       "      <td>1.1254</td>\n",
       "      <td>1.9031</td>\n",
       "      <td>1</td>\n",
       "      <td>1</td>\n",
       "      <td>474</td>\n",
       "    </tr>\n",
       "    <tr>\n",
       "      <th>41</th>\n",
       "      <td>20160310</td>\n",
       "      <td>3511.0/3128.0/5599.0/6229.0/6229.0/0.0/3511.0/...</td>\n",
       "      <td>1.1254</td>\n",
       "      <td>1.9031</td>\n",
       "      <td>1</td>\n",
       "      <td>1</td>\n",
       "      <td>651</td>\n",
       "    </tr>\n",
       "    <tr>\n",
       "      <th>42</th>\n",
       "      <td>20160310</td>\n",
       "      <td>3511.0/3002.0/5520.0/9071.0/8917.0/7299.0/3511...</td>\n",
       "      <td>1.1254</td>\n",
       "      <td>1.9031</td>\n",
       "      <td>1</td>\n",
       "      <td>1</td>\n",
       "      <td>796</td>\n",
       "    </tr>\n",
       "    <tr>\n",
       "      <th>43</th>\n",
       "      <td>20160310</td>\n",
       "      <td>3511.0/3769.0/3128.0/5543.0/3511.0/3128.0/3769...</td>\n",
       "      <td>1.1254</td>\n",
       "      <td>1.9031</td>\n",
       "      <td>1</td>\n",
       "      <td>1</td>\n",
       "      <td>823</td>\n",
       "    </tr>\n",
       "    <tr>\n",
       "      <th>44</th>\n",
       "      <td>20160308</td>\n",
       "      <td>3094.0/2090.0/3094.0/399.0/824.0/3511.0/8870.0...</td>\n",
       "      <td>0.1062</td>\n",
       "      <td>-0.0201</td>\n",
       "      <td>1</td>\n",
       "      <td>0</td>\n",
       "      <td>106</td>\n",
       "    </tr>\n",
       "    <tr>\n",
       "      <th>45</th>\n",
       "      <td>20160227</td>\n",
       "      <td>3094.0/2090.0/3094.0/399.0/824.0/3511.0/0.0/12...</td>\n",
       "      <td>1.6890</td>\n",
       "      <td>0.6257</td>\n",
       "      <td>1</td>\n",
       "      <td>1</td>\n",
       "      <td>108</td>\n",
       "    </tr>\n",
       "    <tr>\n",
       "      <th>46</th>\n",
       "      <td>20160226</td>\n",
       "      <td>3094.0/2090.0/3094.0/399.0/824.0/3511.0/7880.0...</td>\n",
       "      <td>1.2870</td>\n",
       "      <td>0.8665</td>\n",
       "      <td>1</td>\n",
       "      <td>1</td>\n",
       "      <td>546</td>\n",
       "    </tr>\n",
       "    <tr>\n",
       "      <th>47</th>\n",
       "      <td>20160121</td>\n",
       "      <td>3094.0/2090.0/3094.0/399.0/824.0/3511.0/3769.0...</td>\n",
       "      <td>0.6984</td>\n",
       "      <td>0.1497</td>\n",
       "      <td>1</td>\n",
       "      <td>1</td>\n",
       "      <td>138</td>\n",
       "    </tr>\n",
       "    <tr>\n",
       "      <th>48</th>\n",
       "      <td>20160119</td>\n",
       "      <td>3094.0/2090.0/3094.0/399.0/824.0/3511.0/628.0/...</td>\n",
       "      <td>-0.6182</td>\n",
       "      <td>-1.2037</td>\n",
       "      <td>0</td>\n",
       "      <td>0</td>\n",
       "      <td>115</td>\n",
       "    </tr>\n",
       "    <tr>\n",
       "      <th>49</th>\n",
       "      <td>20160109</td>\n",
       "      <td>3094.0/2090.0/3094.0/399.0/824.0/3511.0/0.0/12...</td>\n",
       "      <td>3.2160</td>\n",
       "      <td>2.9391</td>\n",
       "      <td>1</td>\n",
       "      <td>1</td>\n",
       "      <td>63</td>\n",
       "    </tr>\n",
       "    <tr>\n",
       "      <th>50</th>\n",
       "      <td>20160106</td>\n",
       "      <td>3094.0/2090.0/3094.0/399.0/824.0/3511.0/0.0/0....</td>\n",
       "      <td>1.2392</td>\n",
       "      <td>1.2330</td>\n",
       "      <td>1</td>\n",
       "      <td>1</td>\n",
       "      <td>63</td>\n",
       "    </tr>\n",
       "    <tr>\n",
       "      <th>51</th>\n",
       "      <td>20160105</td>\n",
       "      <td>3094.0/2090.0/3094.0/399.0/824.0/3511.0/628.0/...</td>\n",
       "      <td>1.8516</td>\n",
       "      <td>1.8462</td>\n",
       "      <td>1</td>\n",
       "      <td>1</td>\n",
       "      <td>100</td>\n",
       "    </tr>\n",
       "  </tbody>\n",
       "</table>\n",
       "</div>"
      ],
      "text/plain": [
       "    ann_date                                              words   accr3  \\\n",
       "0   20160608  3094.0/2090.0/3094.0/399.0/824.0/6876.0/2090.0...  0.7966   \n",
       "1   20160520  0.0/0.0/0.0/6507.0/0.0/0.0/0.0/6156.0/0.0/0.0/...  0.2525   \n",
       "2   20160520  0.0/0.0/3094.0/4573.0/6646.0/3511.0/795.0/0.0/...  0.2525   \n",
       "3   20160520  3094.0/2090.0/3094.0/399.0/824.0/6876.0/2090.0...  0.2525   \n",
       "4   20160520  3094.0/2090.0/3094.0/399.0/824.0/6876.0/2090.0...  0.2525   \n",
       "5   20160513  3094.0/2090.0/3094.0/399.0/824.0/6876.0/2090.0...  0.4910   \n",
       "6   20160421  3094.0/2090.0/3094.0/399.0/824.0/6876.0/2090.0...  0.0625   \n",
       "7   20160421  3094.0/2090.0/3094.0/399.0/824.0/6876.0/2090.0...  0.0625   \n",
       "8   20160421  3094.0/2090.0/3094.0/399.0/824.0/6876.0/2090.0...  0.0625   \n",
       "9   20160421  3511.0/3128.0/3600.0/8956.0/1307.0/6239.0/3528...  0.0625   \n",
       "10  20160421  3094.0/2090.0/3094.0/399.0/824.0/6876.0/2090.0...  0.0625   \n",
       "11  20160421  3511.0/4985.0/6378.0/3511.0/4985.0/5559.0/3511...  0.0625   \n",
       "12  20160421  3094.0/2090.0/3094.0/399.0/824.0/6876.0/2090.0...  0.0625   \n",
       "13  20160412  3094.0/2090.0/3094.0/399.0/824.0/6876.0/2090.0...  0.4649   \n",
       "14  20160324  3094.0/2090.0/3094.0/399.0/824.0/6876.0/2090.0... -0.5247   \n",
       "15  20160324  0.0/0.0/3094.0/4573.0/6646.0/3511.0/6876.0/231... -0.5247   \n",
       "16  20160324  0.0/0.0/3094.0/4573.0/6646.0/3511.0/3769.0/156... -0.5247   \n",
       "17  20160324  3094.0/2090.0/3094.0/399.0/824.0/6876.0/2090.0... -0.5247   \n",
       "18  20160324  3511.0/0.0/1270.0/8870.0/6876.0/2317.0/0.0/619... -0.5247   \n",
       "19  20160315  3094.0/2090.0/3094.0/399.0/824.0/3511.0/4633.0... -0.3703   \n",
       "20  20160315  3094.0/2090.0/3094.0/399.0/824.0/2005.0/3085.0... -0.3703   \n",
       "21  20160315  3094.0/2090.0/3094.0/399.0/824.0/3511.0/6876.0... -0.3703   \n",
       "22  20160315  3511.0/0.0/1270.0/8870.0/6876.0/3085.0/2005.0/... -0.3703   \n",
       "23  20160315  3511.0/0.0/1270.0/8870.0/6876.0/8870.0/177.0/4... -0.3703   \n",
       "24  20160315  4769.0/1563.0/1584.0/4769.0/0.0/147.0/3511.0/0... -0.3703   \n",
       "25  20160315  3511.0/1159.0/3511.0/1159.0/1159.0/6646.0/0.0/... -0.3703   \n",
       "26  20160310  3511.0/3769.0/6939.0/5312.0/3176.0/8917.0/2401...  1.1254   \n",
       "27  20160310  3511.0/3128.0/7511.0/3600.0/8956.0/1307.0/6239...  1.1254   \n",
       "28  20160310  3094.0/2090.0/3094.0/399.0/824.0/3511.0/4310.0...  1.1254   \n",
       "29  20160310  3511.0/4370.0/0.0/2005.0/4904.0/2206.0/3089.0/...  1.1254   \n",
       "30  20160310  3511.0/4310.0/6646.0/3769.0/8024.0/5741.0/7299...  1.1254   \n",
       "31  20160310  3511.0/3128.0/2829.0/6229.0/2829.0/3511.0/3089...  1.1254   \n",
       "32  20160310  5048.0/2112.0/456.0/7997.0/23.0/5048.0/2112.0/...  1.1254   \n",
       "33  20160310  0.0/0.0/3094.0/4573.0/6646.0/3511.0/3769.0/693...  1.1254   \n",
       "34  20160310  3094.0/2090.0/3094.0/399.0/824.0/3511.0/628.0/...  1.1254   \n",
       "35  20160310  3511.0/3769.0/6939.0/5312.0/3176.0/8917.0/2401...  1.1254   \n",
       "36  20160310  4133.0/7299.0/0.0/0.0/0.0/0.0/0.0/0.0/0.0/3511...  1.1254   \n",
       "37  20160310  3511.0/3769.0/8024.0/5741.0/7299.0/0.0/3769.0/...  1.1254   \n",
       "38  20160310  3511.0/3769.0/5988.0/4064.0/3511.0/3769.0/5988...  1.1254   \n",
       "39  20160310  3094.0/2090.0/3094.0/399.0/824.0/3511.0/4370.0...  1.1254   \n",
       "40  20160310  3511.0/3769.0/6709.0/8927.0/9008.0/5312.0/8917...  1.1254   \n",
       "41  20160310  3511.0/3128.0/5599.0/6229.0/6229.0/0.0/3511.0/...  1.1254   \n",
       "42  20160310  3511.0/3002.0/5520.0/9071.0/8917.0/7299.0/3511...  1.1254   \n",
       "43  20160310  3511.0/3769.0/3128.0/5543.0/3511.0/3128.0/3769...  1.1254   \n",
       "44  20160308  3094.0/2090.0/3094.0/399.0/824.0/3511.0/8870.0...  0.1062   \n",
       "45  20160227  3094.0/2090.0/3094.0/399.0/824.0/3511.0/0.0/12...  1.6890   \n",
       "46  20160226  3094.0/2090.0/3094.0/399.0/824.0/3511.0/7880.0...  1.2870   \n",
       "47  20160121  3094.0/2090.0/3094.0/399.0/824.0/3511.0/3769.0...  0.6984   \n",
       "48  20160119  3094.0/2090.0/3094.0/399.0/824.0/3511.0/628.0/... -0.6182   \n",
       "49  20160109  3094.0/2090.0/3094.0/399.0/824.0/3511.0/0.0/12...  3.2160   \n",
       "50  20160106  3094.0/2090.0/3094.0/399.0/824.0/3511.0/0.0/0....  1.2392   \n",
       "51  20160105  3094.0/2090.0/3094.0/399.0/824.0/3511.0/628.0/...  1.8516   \n",
       "\n",
       "     accr5  accr3_label  accr5_label  length  \n",
       "0   0.0783            1            1     437  \n",
       "1  -0.5925            1            0     718  \n",
       "2  -0.5925            1            0     906  \n",
       "3  -0.5925            1            0     930  \n",
       "4  -0.5925            1            0     438  \n",
       "5   0.1528            1            1    1030  \n",
       "6   0.4996            1            1    3361  \n",
       "7   0.4996            1            1     153  \n",
       "8   0.4996            1            1     493  \n",
       "9   0.4996            1            1      73  \n",
       "10  0.4996            1            1    2990  \n",
       "11  0.4996            1            1    8594  \n",
       "12  0.4996            1            1    1016  \n",
       "13  1.1332            1            1      78  \n",
       "14 -0.8784            0            0     604  \n",
       "15 -0.8784            0            0    1938  \n",
       "16 -0.8784            0            0     687  \n",
       "17 -0.8784            0            0    2298  \n",
       "18 -0.8784            0            0    1005  \n",
       "19  1.4266            0            1    4216  \n",
       "20  1.4266            0            1    5274  \n",
       "21  1.4266            0            1     432  \n",
       "22  1.4266            0            1   32945  \n",
       "23  1.4266            0            1    1420  \n",
       "24  1.4266            0            1    1963  \n",
       "25  1.4266            0            1   10597  \n",
       "26  1.9031            1            1     857  \n",
       "27  1.9031            1            1     294  \n",
       "28  1.9031            1            1     174  \n",
       "29  1.9031            1            1   34250  \n",
       "30  1.9031            1            1     109  \n",
       "31  1.9031            1            1     657  \n",
       "32  1.9031            1            1   14931  \n",
       "33  1.9031            1            1     760  \n",
       "34  1.9031            1            1     666  \n",
       "35  1.9031            1            1     798  \n",
       "36  1.9031            1            1     113  \n",
       "37  1.9031            1            1    4851  \n",
       "38  1.9031            1            1   14699  \n",
       "39  1.9031            1            1    4994  \n",
       "40  1.9031            1            1     474  \n",
       "41  1.9031            1            1     651  \n",
       "42  1.9031            1            1     796  \n",
       "43  1.9031            1            1     823  \n",
       "44 -0.0201            1            0     106  \n",
       "45  0.6257            1            1     108  \n",
       "46  0.8665            1            1     546  \n",
       "47  0.1497            1            1     138  \n",
       "48 -1.2037            0            0     115  \n",
       "49  2.9391            1            1      63  \n",
       "50  1.2330            1            1      63  \n",
       "51  1.8462            1            1     100  "
      ]
     },
     "execution_count": 34,
     "metadata": {},
     "output_type": "execute_result"
    }
   ],
   "source": [
    "dfr = pd.read_csv(\"data/HS300/20151230-20160613/000001.SZ.csv\")\n",
    "process_dataframe(dfr,word2num_dict)"
   ]
  },
  {
   "cell_type": "code",
   "execution_count": null,
   "metadata": {},
   "outputs": [],
   "source": []
  },
  {
   "cell_type": "code",
   "execution_count": null,
   "metadata": {},
   "outputs": [],
   "source": []
  },
  {
   "cell_type": "code",
   "execution_count": null,
   "metadata": {},
   "outputs": [],
   "source": []
  },
  {
   "cell_type": "code",
   "execution_count": null,
   "metadata": {},
   "outputs": [],
   "source": [
    "def shorten_num_list(num_list, max_len,core_words,sentiment_words,num2word_dict):\n",
    "    \n",
    "    # 去掉 0.0\n",
    "    \n",
    "    num_list.remove(0.0)\n",
    "    if(len(num_list)<=max_len):\n",
    "        return num_list\n",
    "    \n",
    "    # 去掉非关键词 & 非情绪词\n",
    "    \n",
    "    num_set = list(set(num_list))\n",
    "    \n",
    "    for i in range(len(num_set)):\n",
    "        \n",
    "        n = str(num_set[i])\n",
    "        if((num2word_dict[n] not in core_words) and (num2word_dict[n] not in sentiment_words)):\n",
    "            num_list.remove(num_set[i])\n",
    "        \n",
    "        if(len(num_list)<=max_len):\n",
    "            return num_list\n",
    "    \n",
    "    # 去掉非关键词\n",
    "        \n",
    "    for i in range(len(num_set)):\n",
    "        \n",
    "        n = str(num_set[i])\n",
    "        if(num2word_dict[n] not in core_words):\n",
    "            num_list.remove(num_set[i])\n",
    "        \n",
    "        if(len(num_list)<=max_len):\n",
    "            return num_list\n",
    "        \n",
    "    num_list = num_list[0:max_len]\n",
    "    return num_list"
   ]
  },
  {
   "cell_type": "code",
   "execution_count": null,
   "metadata": {},
   "outputs": [],
   "source": []
  },
  {
   "cell_type": "code",
   "execution_count": 62,
   "metadata": {},
   "outputs": [
    {
     "data": {
      "text/plain": [
       "[1, 2, 4, 5]"
      ]
     },
     "execution_count": 62,
     "metadata": {},
     "output_type": "execute_result"
    }
   ],
   "source": [
    "a = [1,2,3,4,5]\n",
    "a.remove(3)\n",
    "a"
   ]
  },
  {
   "cell_type": "code",
   "execution_count": null,
   "metadata": {},
   "outputs": [],
   "source": [
    "a.remove"
   ]
  }
 ],
 "metadata": {
  "kernelspec": {
   "display_name": "Python 3",
   "language": "python",
   "name": "python3"
  },
  "language_info": {
   "codemirror_mode": {
    "name": "ipython",
    "version": 3
   },
   "file_extension": ".py",
   "mimetype": "text/x-python",
   "name": "python",
   "nbconvert_exporter": "python",
   "pygments_lexer": "ipython3",
   "version": "3.8.3"
  }
 },
 "nbformat": 4,
 "nbformat_minor": 4
}
