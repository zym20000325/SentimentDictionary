{
 "cells": [
  {
   "cell_type": "code",
   "execution_count": 1,
   "metadata": {},
   "outputs": [],
   "source": [
    "import pandas as pd\n",
    "pd.options.mode.chained_assignment = None  # default='warn'"
   ]
  },
  {
   "cell_type": "code",
   "execution_count": 14,
   "metadata": {},
   "outputs": [],
   "source": [
    "def read_corpus(path):\n",
    "    \n",
    "    df_corpus_origin = pd.read_csv(path)\n",
    "    corpus_origin = list(df_corpus_origin['word'])\n",
    "    \n",
    "    return corpus_origin"
   ]
  },
  {
   "cell_type": "code",
   "execution_count": 15,
   "metadata": {},
   "outputs": [
    {
     "data": {
      "text/plain": [
       "12887"
      ]
     },
     "execution_count": 15,
     "metadata": {},
     "output_type": "execute_result"
    }
   ],
   "source": [
    "corpus_origin = read_corpus(\"data/HS300/20151230-20160613/corpus2.csv\")\n",
    "len(corpus_origin)"
   ]
  },
  {
   "cell_type": "code",
   "execution_count": 16,
   "metadata": {},
   "outputs": [
    {
     "data": {
      "text/plain": [
       "['核心技术', '推广', '增值', '领先', '贴现', '考核', '获授', '绩效', '新兴', '折现']"
      ]
     },
     "execution_count": 16,
     "metadata": {},
     "output_type": "execute_result"
    }
   ],
   "source": [
    "corpus_origin[0:10]"
   ]
  },
  {
   "cell_type": "code",
   "execution_count": 17,
   "metadata": {},
   "outputs": [
    {
     "data": {
      "text/plain": [
       "8730"
      ]
     },
     "execution_count": 17,
     "metadata": {},
     "output_type": "execute_result"
    }
   ],
   "source": [
    "corpus_clean = read_corpus(\"data/HS300/20151230-20160613/corpus3.csv\")\n",
    "len(corpus_clean)"
   ]
  },
  {
   "cell_type": "code",
   "execution_count": 30,
   "metadata": {},
   "outputs": [],
   "source": [
    "def seperate_new_words(filename,t1,t2):\n",
    "    \n",
    "    corpus_origin = read_corpus(\"data/HS300/20151230-20160613/corpus2.csv\")\n",
    "    corpus_clean = read_corpus(\"data/HS300/20151230-20160613/corpus3.csv\")\n",
    "    \n",
    "    foldername = t1+'-'+t2\n",
    "    readfilepath = 'data/HS300/' + foldername + '/corpus2.csv'\n",
    "    savefilepath = 'data/HS300/' + foldername + '/corpus3.csv'\n",
    "    \n",
    "    df = pd.read_csv(readfilepath)\n",
    "    \n",
    "    remove_index = []\n",
    "    new_index = []\n",
    "    \n",
    "    for i in range(len(df)):\n",
    "        \n",
    "        if(df.word[i] not in corpus_clean):\n",
    "            remove_index.append(i)\n",
    "        \n",
    "        if(df.word[i] not in corpus_origin):\n",
    "            new_index.append(i)\n",
    "        \n",
    "#     print(len(remove_index))\n",
    "#     print(len(new_index))\n",
    "    \n",
    "    df_new = df.loc[df.index[new_index]]\n",
    "    df_new = df_new.reset_index(drop=True)\n",
    "    \n",
    "    df_new.to_csv(savefilepath, index=False, encoding='utf_8_sig')\n",
    "    \n",
    "    df = df.drop(df.index[remove_index])\n",
    "    df = df.reset_index(drop=True)\n",
    "    \n",
    "#     print(df)\n",
    "\n",
    "    df.to_csv(readfilepath, index=False, encoding='utf_8_sig')\n",
    "    \n",
    "    return df_new"
   ]
  },
  {
   "cell_type": "code",
   "execution_count": 38,
   "metadata": {},
   "outputs": [
    {
     "data": {
      "text/html": [
       "<div>\n",
       "<style scoped>\n",
       "    .dataframe tbody tr th:only-of-type {\n",
       "        vertical-align: middle;\n",
       "    }\n",
       "\n",
       "    .dataframe tbody tr th {\n",
       "        vertical-align: top;\n",
       "    }\n",
       "\n",
       "    .dataframe thead th {\n",
       "        text-align: right;\n",
       "    }\n",
       "</style>\n",
       "<table border=\"1\" class=\"dataframe\">\n",
       "  <thead>\n",
       "    <tr style=\"text-align: right;\">\n",
       "      <th></th>\n",
       "      <th>word</th>\n",
       "      <th>num</th>\n",
       "    </tr>\n",
       "  </thead>\n",
       "  <tbody>\n",
       "    <tr>\n",
       "      <th>0</th>\n",
       "      <td>新冠</td>\n",
       "      <td>1247</td>\n",
       "    </tr>\n",
       "    <tr>\n",
       "      <th>1</th>\n",
       "      <td>疫情</td>\n",
       "      <td>1942</td>\n",
       "    </tr>\n",
       "    <tr>\n",
       "      <th>2</th>\n",
       "      <td>被执行人</td>\n",
       "      <td>520</td>\n",
       "    </tr>\n",
       "    <tr>\n",
       "      <th>3</th>\n",
       "      <td>商住</td>\n",
       "      <td>84</td>\n",
       "    </tr>\n",
       "    <tr>\n",
       "      <th>4</th>\n",
       "      <td>今年以来</td>\n",
       "      <td>116</td>\n",
       "    </tr>\n",
       "    <tr>\n",
       "      <th>...</th>\n",
       "      <td>...</td>\n",
       "      <td>...</td>\n",
       "    </tr>\n",
       "    <tr>\n",
       "      <th>1157</th>\n",
       "      <td>复药</td>\n",
       "      <td>92</td>\n",
       "    </tr>\n",
       "    <tr>\n",
       "      <th>1158</th>\n",
       "      <td>临转债</td>\n",
       "      <td>88</td>\n",
       "    </tr>\n",
       "    <tr>\n",
       "      <th>1159</th>\n",
       "      <td>基绿能</td>\n",
       "      <td>85</td>\n",
       "    </tr>\n",
       "    <tr>\n",
       "      <th>1160</th>\n",
       "      <td>隆基绿能</td>\n",
       "      <td>98</td>\n",
       "    </tr>\n",
       "    <tr>\n",
       "      <th>1161</th>\n",
       "      <td>伊利</td>\n",
       "      <td>118</td>\n",
       "    </tr>\n",
       "  </tbody>\n",
       "</table>\n",
       "<p>1162 rows × 2 columns</p>\n",
       "</div>"
      ],
      "text/plain": [
       "      word   num\n",
       "0       新冠  1247\n",
       "1       疫情  1942\n",
       "2     被执行人   520\n",
       "3       商住    84\n",
       "4     今年以来   116\n",
       "...    ...   ...\n",
       "1157    复药    92\n",
       "1158   临转债    88\n",
       "1159   基绿能    85\n",
       "1160  隆基绿能    98\n",
       "1161    伊利   118\n",
       "\n",
       "[1162 rows x 2 columns]"
      ]
     },
     "execution_count": 38,
     "metadata": {},
     "output_type": "execute_result"
    }
   ],
   "source": [
    "# seperate_new_words('2016-06-13','20160613','20161212')\n",
    "\n",
    "# seperate_new_words('2016-12-12','20161212','20170612')\n",
    "# seperate_new_words('2017-06-12','20170612','20171211')\n",
    "\n",
    "# seperate_new_words('2017-12-11','20171211','20180611')\n",
    "# seperate_new_words('2018-06-11','20180611','20181217')\n",
    "\n",
    "# seperate_new_words('2018-12-17' ,'20181217','20190617')\n",
    "# seperate_new_words('2019-06-17','20190617','20191216')\n",
    "\n",
    "# seperate_new_words('2019-12-16','20191216','20200615')\n",
    "seperate_new_words('2020-06-15','20200615','20201214')"
   ]
  },
  {
   "cell_type": "code",
   "execution_count": null,
   "metadata": {},
   "outputs": [],
   "source": []
  },
  {
   "cell_type": "code",
   "execution_count": null,
   "metadata": {},
   "outputs": [],
   "source": []
  },
  {
   "cell_type": "code",
   "execution_count": null,
   "metadata": {},
   "outputs": [],
   "source": []
  },
  {
   "cell_type": "code",
   "execution_count": null,
   "metadata": {},
   "outputs": [],
   "source": []
  },
  {
   "cell_type": "code",
   "execution_count": null,
   "metadata": {},
   "outputs": [],
   "source": []
  },
  {
   "cell_type": "code",
   "execution_count": null,
   "metadata": {},
   "outputs": [],
   "source": []
  },
  {
   "cell_type": "code",
   "execution_count": null,
   "metadata": {},
   "outputs": [],
   "source": []
  },
  {
   "cell_type": "code",
   "execution_count": null,
   "metadata": {},
   "outputs": [],
   "source": []
  },
  {
   "cell_type": "code",
   "execution_count": null,
   "metadata": {},
   "outputs": [],
   "source": []
  },
  {
   "cell_type": "code",
   "execution_count": 2,
   "metadata": {},
   "outputs": [
    {
     "data": {
      "text/html": [
       "<div>\n",
       "<style scoped>\n",
       "    .dataframe tbody tr th:only-of-type {\n",
       "        vertical-align: middle;\n",
       "    }\n",
       "\n",
       "    .dataframe tbody tr th {\n",
       "        vertical-align: top;\n",
       "    }\n",
       "\n",
       "    .dataframe thead th {\n",
       "        text-align: right;\n",
       "    }\n",
       "</style>\n",
       "<table border=\"1\" class=\"dataframe\">\n",
       "  <thead>\n",
       "    <tr style=\"text-align: right;\">\n",
       "      <th></th>\n",
       "      <th>word</th>\n",
       "      <th>num</th>\n",
       "      <th>idf</th>\n",
       "    </tr>\n",
       "  </thead>\n",
       "  <tbody>\n",
       "    <tr>\n",
       "      <th>0</th>\n",
       "      <td>核心技术</td>\n",
       "      <td>579</td>\n",
       "      <td>3.402231</td>\n",
       "    </tr>\n",
       "    <tr>\n",
       "      <th>1</th>\n",
       "      <td>推广</td>\n",
       "      <td>1081</td>\n",
       "      <td>2.778693</td>\n",
       "    </tr>\n",
       "    <tr>\n",
       "      <th>2</th>\n",
       "      <td>增值</td>\n",
       "      <td>1174</td>\n",
       "      <td>2.696236</td>\n",
       "    </tr>\n",
       "    <tr>\n",
       "      <th>3</th>\n",
       "      <td>领先</td>\n",
       "      <td>1243</td>\n",
       "      <td>2.639172</td>\n",
       "    </tr>\n",
       "    <tr>\n",
       "      <th>4</th>\n",
       "      <td>贴现</td>\n",
       "      <td>701</td>\n",
       "      <td>3.211326</td>\n",
       "    </tr>\n",
       "    <tr>\n",
       "      <th>...</th>\n",
       "      <td>...</td>\n",
       "      <td>...</td>\n",
       "      <td>...</td>\n",
       "    </tr>\n",
       "    <tr>\n",
       "      <th>9455</th>\n",
       "      <td>分离交易可转债</td>\n",
       "      <td>86</td>\n",
       "      <td>5.299351</td>\n",
       "    </tr>\n",
       "    <tr>\n",
       "      <th>9456</th>\n",
       "      <td>转持</td>\n",
       "      <td>76</td>\n",
       "      <td>5.421454</td>\n",
       "    </tr>\n",
       "    <tr>\n",
       "      <th>9457</th>\n",
       "      <td>版本号</td>\n",
       "      <td>87</td>\n",
       "      <td>5.287923</td>\n",
       "    </tr>\n",
       "    <tr>\n",
       "      <th>9458</th>\n",
       "      <td>首创股份</td>\n",
       "      <td>88</td>\n",
       "      <td>5.276623</td>\n",
       "    </tr>\n",
       "    <tr>\n",
       "      <th>9459</th>\n",
       "      <td>上证所</td>\n",
       "      <td>179</td>\n",
       "      <td>4.572303</td>\n",
       "    </tr>\n",
       "  </tbody>\n",
       "</table>\n",
       "<p>9460 rows × 3 columns</p>\n",
       "</div>"
      ],
      "text/plain": [
       "         word   num       idf\n",
       "0        核心技术   579  3.402231\n",
       "1          推广  1081  2.778693\n",
       "2          增值  1174  2.696236\n",
       "3          领先  1243  2.639172\n",
       "4          贴现   701  3.211326\n",
       "...       ...   ...       ...\n",
       "9455  分离交易可转债    86  5.299351\n",
       "9456       转持    76  5.421454\n",
       "9457      版本号    87  5.287923\n",
       "9458     首创股份    88  5.276623\n",
       "9459      上证所   179  4.572303\n",
       "\n",
       "[9460 rows x 3 columns]"
      ]
     },
     "execution_count": 2,
     "metadata": {},
     "output_type": "execute_result"
    }
   ],
   "source": [
    "df_corpus = pd.read_csv('data/HS300/20151230-20160613/corpus3.csv')\n",
    "df_corpus"
   ]
  },
  {
   "cell_type": "code",
   "execution_count": 4,
   "metadata": {},
   "outputs": [
    {
     "data": {
      "text/plain": [
       "730"
      ]
     },
     "execution_count": 4,
     "metadata": {},
     "output_type": "execute_result"
    }
   ],
   "source": [
    "delete_index = []\n",
    "delete_index.clear()\n",
    "\n",
    "for i in range(len(df_corpus)):\n",
    "    if(\"1\" in df_corpus.word[i]):\n",
    "        delete_index.append(i)\n",
    "\n",
    "len(delete_index)"
   ]
  },
  {
   "cell_type": "code",
   "execution_count": 5,
   "metadata": {},
   "outputs": [
    {
     "data": {
      "text/plain": [
       "6375"
      ]
     },
     "execution_count": 5,
     "metadata": {},
     "output_type": "execute_result"
    }
   ],
   "source": [
    "delete_index[0]"
   ]
  },
  {
   "cell_type": "code",
   "execution_count": 7,
   "metadata": {},
   "outputs": [
    {
     "data": {
      "text/plain": [
       "'1需向'"
      ]
     },
     "execution_count": 7,
     "metadata": {},
     "output_type": "execute_result"
    }
   ],
   "source": [
    "df_corpus.word[6375]"
   ]
  },
  {
   "cell_type": "code",
   "execution_count": 8,
   "metadata": {},
   "outputs": [],
   "source": [
    "df_corpus = df_corpus.drop(delete_index)\n",
    "df_corpus = df_corpus.reset_index(drop=True)"
   ]
  },
  {
   "cell_type": "code",
   "execution_count": 9,
   "metadata": {},
   "outputs": [
    {
     "data": {
      "text/html": [
       "<div>\n",
       "<style scoped>\n",
       "    .dataframe tbody tr th:only-of-type {\n",
       "        vertical-align: middle;\n",
       "    }\n",
       "\n",
       "    .dataframe tbody tr th {\n",
       "        vertical-align: top;\n",
       "    }\n",
       "\n",
       "    .dataframe thead th {\n",
       "        text-align: right;\n",
       "    }\n",
       "</style>\n",
       "<table border=\"1\" class=\"dataframe\">\n",
       "  <thead>\n",
       "    <tr style=\"text-align: right;\">\n",
       "      <th></th>\n",
       "      <th>word</th>\n",
       "      <th>num</th>\n",
       "      <th>idf</th>\n",
       "    </tr>\n",
       "  </thead>\n",
       "  <tbody>\n",
       "    <tr>\n",
       "      <th>0</th>\n",
       "      <td>核心技术</td>\n",
       "      <td>579</td>\n",
       "      <td>3.402231</td>\n",
       "    </tr>\n",
       "    <tr>\n",
       "      <th>1</th>\n",
       "      <td>推广</td>\n",
       "      <td>1081</td>\n",
       "      <td>2.778693</td>\n",
       "    </tr>\n",
       "    <tr>\n",
       "      <th>2</th>\n",
       "      <td>增值</td>\n",
       "      <td>1174</td>\n",
       "      <td>2.696236</td>\n",
       "    </tr>\n",
       "    <tr>\n",
       "      <th>3</th>\n",
       "      <td>领先</td>\n",
       "      <td>1243</td>\n",
       "      <td>2.639172</td>\n",
       "    </tr>\n",
       "    <tr>\n",
       "      <th>4</th>\n",
       "      <td>贴现</td>\n",
       "      <td>701</td>\n",
       "      <td>3.211326</td>\n",
       "    </tr>\n",
       "    <tr>\n",
       "      <th>...</th>\n",
       "      <td>...</td>\n",
       "      <td>...</td>\n",
       "      <td>...</td>\n",
       "    </tr>\n",
       "    <tr>\n",
       "      <th>8725</th>\n",
       "      <td>分离交易可转债</td>\n",
       "      <td>86</td>\n",
       "      <td>5.299351</td>\n",
       "    </tr>\n",
       "    <tr>\n",
       "      <th>8726</th>\n",
       "      <td>转持</td>\n",
       "      <td>76</td>\n",
       "      <td>5.421454</td>\n",
       "    </tr>\n",
       "    <tr>\n",
       "      <th>8727</th>\n",
       "      <td>版本号</td>\n",
       "      <td>87</td>\n",
       "      <td>5.287923</td>\n",
       "    </tr>\n",
       "    <tr>\n",
       "      <th>8728</th>\n",
       "      <td>首创股份</td>\n",
       "      <td>88</td>\n",
       "      <td>5.276623</td>\n",
       "    </tr>\n",
       "    <tr>\n",
       "      <th>8729</th>\n",
       "      <td>上证所</td>\n",
       "      <td>179</td>\n",
       "      <td>4.572303</td>\n",
       "    </tr>\n",
       "  </tbody>\n",
       "</table>\n",
       "<p>8730 rows × 3 columns</p>\n",
       "</div>"
      ],
      "text/plain": [
       "         word   num       idf\n",
       "0        核心技术   579  3.402231\n",
       "1          推广  1081  2.778693\n",
       "2          增值  1174  2.696236\n",
       "3          领先  1243  2.639172\n",
       "4          贴现   701  3.211326\n",
       "...       ...   ...       ...\n",
       "8725  分离交易可转债    86  5.299351\n",
       "8726       转持    76  5.421454\n",
       "8727      版本号    87  5.287923\n",
       "8728     首创股份    88  5.276623\n",
       "8729      上证所   179  4.572303\n",
       "\n",
       "[8730 rows x 3 columns]"
      ]
     },
     "execution_count": 9,
     "metadata": {},
     "output_type": "execute_result"
    }
   ],
   "source": [
    "df_corpus"
   ]
  },
  {
   "cell_type": "code",
   "execution_count": 10,
   "metadata": {},
   "outputs": [],
   "source": [
    "df_corpus.to_csv('data/HS300/20151230-20160613/corpus3.csv', index=False, encoding='utf_8_sig')"
   ]
  },
  {
   "cell_type": "code",
   "execution_count": null,
   "metadata": {},
   "outputs": [],
   "source": []
  }
 ],
 "metadata": {
  "kernelspec": {
   "display_name": "Python 3",
   "language": "python",
   "name": "python3"
  },
  "language_info": {
   "codemirror_mode": {
    "name": "ipython",
    "version": 3
   },
   "file_extension": ".py",
   "mimetype": "text/x-python",
   "name": "python",
   "nbconvert_exporter": "python",
   "pygments_lexer": "ipython3",
   "version": "3.8.3"
  }
 },
 "nbformat": 4,
 "nbformat_minor": 4
}
